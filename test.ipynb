{
 "cells": [
  {
   "cell_type": "code",
   "execution_count": 1,
   "metadata": {},
   "outputs": [],
   "source": [
    "import os\n",
    "import cv2"
   ]
  },
  {
   "cell_type": "code",
   "execution_count": 2,
   "metadata": {},
   "outputs": [],
   "source": [
    "def getFrames(vid, output, num_frames=32, frameName='frame'):\n",
    "\n",
    "    vidcap = cv2.VideoCapture(vid)\n",
    "\n",
    "    count = 0\n",
    "\n",
    "    if not os.path.isdir(output):\n",
    "        os.mkdir(output)\n",
    "\n",
    "    success = True\n",
    "    while success and count < num_frames:\n",
    "        success, image = vidcap.read()\n",
    "\n",
    "        if not success:\n",
    "            break\n",
    "\n",
    "        #print('extracting frame ' + frameName + '-%s.png' % str(count).zfill(2))\n",
    "        name = os.path.join(output, frameName + '-%s.png' % str(count).zfill(2)) # save frame as PNG file\n",
    "        cv2.imwrite(name, image)\n",
    "        count += 1"
   ]
  },
  {
   "cell_type": "code",
   "execution_count": 3,
   "metadata": {},
   "outputs": [
    {
     "name": "stdout",
     "output_type": "stream",
     "text": [
      "extracting frame frame-00.png\n",
      "extracting frame frame-01.png\n",
      "extracting frame frame-02.png\n",
      "extracting frame frame-03.png\n",
      "extracting frame frame-04.png\n",
      "extracting frame frame-05.png\n",
      "extracting frame frame-06.png\n",
      "extracting frame frame-07.png\n",
      "extracting frame frame-08.png\n",
      "extracting frame frame-09.png\n",
      "extracting frame frame-10.png\n",
      "extracting frame frame-11.png\n",
      "extracting frame frame-12.png\n",
      "extracting frame frame-13.png\n",
      "extracting frame frame-14.png\n",
      "extracting frame frame-15.png\n",
      "extracting frame frame-16.png\n",
      "extracting frame frame-17.png\n",
      "extracting frame frame-18.png\n",
      "extracting frame frame-19.png\n",
      "extracting frame frame-20.png\n",
      "extracting frame frame-21.png\n",
      "extracting frame frame-22.png\n",
      "extracting frame frame-23.png\n",
      "extracting frame frame-24.png\n",
      "extracting frame frame-25.png\n",
      "extracting frame frame-26.png\n",
      "extracting frame frame-27.png\n",
      "extracting frame frame-28.png\n",
      "extracting frame frame-29.png\n",
      "extracting frame frame-30.png\n",
      "extracting frame frame-31.png\n"
     ]
    }
   ],
   "source": [
    "video_path = './count_cut_video/count_2.mp4'  # video_path uploaded\n",
    "output_path = './cor_image_Folder/'  # Output images folder\n",
    "\n",
    "getFrames(vid=video_path, output=output_path, num_frames=32, frameName='frame')"
   ]
  },
  {
   "cell_type": "code",
   "execution_count": null,
   "metadata": {},
   "outputs": [],
   "source": []
  }
 ],
 "metadata": {
  "kernelspec": {
   "display_name": "python_project",
   "language": "python",
   "name": "python3"
  },
  "language_info": {
   "codemirror_mode": {
    "name": "ipython",
    "version": 3
   },
   "file_extension": ".py",
   "mimetype": "text/x-python",
   "name": "python",
   "nbconvert_exporter": "python",
   "pygments_lexer": "ipython3",
   "version": "3.11.5"
  }
 },
 "nbformat": 4,
 "nbformat_minor": 2
}
