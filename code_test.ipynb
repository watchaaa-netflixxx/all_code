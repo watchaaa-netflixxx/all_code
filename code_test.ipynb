{
 "cells": [
  {
   "cell_type": "code",
   "execution_count": 10,
   "metadata": {},
   "outputs": [],
   "source": [
    "import all_function as all"
   ]
  },
  {
   "cell_type": "markdown",
   "metadata": {},
   "source": [
    "#### 경로 설정"
   ]
  },
  {
   "cell_type": "code",
   "execution_count": 11,
   "metadata": {},
   "outputs": [],
   "source": [
    "uploaded_video = 'C:\\\\Users\\\\Playdata\\\\Desktop\\\\DEV\\\\project\\\\finalproject\\\\all_code\\\\uploaded_video\\\\finaltest_bl.mp4'        # (사용자가 업로드한 영상)\n",
    "Vid_Folder_path = 'C:\\\\Users\\\\Playdata\\\\Desktop\\\\DEV\\\\project\\\\finalproject\\\\all_code\\\\Vid_Folder\\\\'\t                    # (15초 잘라진 동영상이 있는 폴더)\n",
    "image_Folder_path = 'C:\\\\Users\\\\Playdata\\\\Desktop\\\\DEV\\\\project\\\\finalproject\\\\all_code\\\\image_Folder'\t                # (32개 이미지가 있는 폴더)\n",
    "data_Folder_path = 'C:\\\\Users\\\\Playdata\\\\Desktop\\\\DEV\\\\project\\\\finalproject\\\\all_code\\\\data\\\\'\t\t                    # (이미지에서 좌표 뽑아낸 csv가 있는 폴더)\n",
    "model_Folder_path = 'C:\\\\Users\\\\Playdata\\\\Desktop\\\\DEV\\\\project\\\\finalproject\\\\all_code\\\\model\\\\'\t                        # (classifycation model이 있는 폴더)\n",
    "cut_video = Vid_Folder_path + '15s.mp4'\n",
    "count_cut_Folder_path = 'C:\\\\Users\\\\Playdata\\\\Desktop\\\\DEV\\\\project\\\\finalproject\\\\all_code\\\\count_cut_video\\\\'           # (카운트 별 잘라진 동영상 있는 폴더)\n",
    "cor_image_Folder_path = 'C:\\\\Users\\\\Playdata\\\\Desktop\\\\DEV\\\\project\\\\finalproject\\\\all_code\\\\cor_image_Folder'\t        # (32개 이미지가 있는 폴더)\n",
    "cor_data_Folder_path = 'C:\\\\Users\\\\Playdata\\\\Desktop\\\\DEV\\\\project\\\\finalproject\\\\all_code\\\\cor_data\\\\'                   # (correct model 전용 좌표값 csv 있는 폴더)\n",
    "MVid_Folder_path = 'C:\\\\Users\\\\Playdata\\\\Desktop\\\\DEV\\\\project\\\\finalproject\\\\all_code\\\\MVid_Folder\\\\'"
   ]
  },
  {
   "cell_type": "code",
   "execution_count": 12,
   "metadata": {},
   "outputs": [],
   "source": [
    "# '../' 코드로 먼저 변수 저장하여 밑에 cell 실행시키고, 오류나면 './' 코드로 변수 저장하여 다시 실행시키고, 다시 '../' 코드로 변수 저장하여 실행시켜야함"
   ]
  },
  {
   "cell_type": "markdown",
   "metadata": {},
   "source": [
    "#### 분류모델 값 "
   ]
  },
  {
   "cell_type": "code",
   "execution_count": 13,
   "metadata": {},
   "outputs": [
    {
     "name": "stdout",
     "output_type": "stream",
     "text": [
      "Moviepy - Running:\n",
      ">>> \"+ \" \".join(cmd)\n",
      "Moviepy - Command successful\n",
      "class_model : vid_cut finish\n",
      "class_model : vid2img finish\n",
      "class_model : img2data finish\n",
      "X.columns length :  18\n",
      "y_pred length:  33\n",
      "The most frequent class is : 4.0\n"
     ]
    }
   ],
   "source": [
    "class_int = all.class_model(uploaded_video, Vid_Folder_path, image_Folder_path, data_Folder_path , model_Folder_path)"
   ]
  },
  {
   "cell_type": "code",
   "execution_count": 14,
   "metadata": {},
   "outputs": [
    {
     "data": {
      "text/plain": [
       "4"
      ]
     },
     "execution_count": 14,
     "metadata": {},
     "output_type": "execute_result"
    }
   ],
   "source": [
    "class_int"
   ]
  },
  {
   "cell_type": "markdown",
   "metadata": {},
   "source": [
    "#### 정확도 모델 값"
   ]
  },
  {
   "cell_type": "code",
   "execution_count": 15,
   "metadata": {},
   "outputs": [],
   "source": [
    "# all.vid2time(class_int, 'C:\\\\Users\\\\Playdata\\\\Desktop\\\\DEV\\\\project\\\\finalproject\\\\all_code\\\\Vid_Folder\\\\stu3_611.mp4', count_cut_Folder_path)"
   ]
  },
  {
   "cell_type": "code",
   "execution_count": 16,
   "metadata": {},
   "outputs": [
    {
     "name": "stdout",
     "output_type": "stream",
     "text": [
      "len(frame_numbers_list) :  3\n",
      "correct_model : vid2time finish\n",
      "C:\\Users\\Playdata\\Desktop\\DEV\\project\\finalproject\\all_code\\count_cut_video\\count_1.mp4\n",
      "correct_model : vid2img_anything finish\n",
      "correct_model : img2data finish\n",
      "X shape:  (32, 19)\n",
      "Xsequence shape:  (1, 32, 19)\n",
      "1/1 [==============================] - 6s 6s/step\n",
      "C:\\Users\\Playdata\\Desktop\\DEV\\project\\finalproject\\all_code\\count_cut_video\\count_2.mp4\n",
      "correct_model : vid2img_anything finish\n",
      "correct_model : img2data finish\n",
      "X shape:  (32, 19)\n",
      "Xsequence shape:  (1, 32, 19)\n",
      "1/1 [==============================] - 5s 5s/step\n",
      "C:\\Users\\Playdata\\Desktop\\DEV\\project\\finalproject\\all_code\\count_cut_video\\count_3.mp4\n",
      "correct_model : vid2img_anything finish\n",
      "correct_model : img2data finish\n",
      "X shape:  (32, 19)\n",
      "Xsequence shape:  (1, 32, 19)\n",
      "1/1 [==============================] - 5s 5s/step\n"
     ]
    }
   ],
   "source": [
    "cor_list = all.correct_model(class_int, Vid_Folder_path, count_cut_Folder_path, cor_image_Folder_path, cor_data_Folder_path, model_Folder_path)"
   ]
  },
  {
   "cell_type": "code",
   "execution_count": 17,
   "metadata": {},
   "outputs": [
    {
     "data": {
      "text/plain": [
       "[1, 1, 1]"
      ]
     },
     "execution_count": 17,
     "metadata": {},
     "output_type": "execute_result"
    }
   ],
   "source": [
    "cor_list"
   ]
  },
  {
   "cell_type": "markdown",
   "metadata": {},
   "source": [
    "#### 스켈레톤 & 운동정보 화면 저장"
   ]
  },
  {
   "cell_type": "code",
   "execution_count": 18,
   "metadata": {},
   "outputs": [],
   "source": [
    "all.vid2Mvid(class_int, Vid_Folder_path, MVid_Folder_path, cor_list)"
   ]
  },
  {
   "cell_type": "code",
   "execution_count": null,
   "metadata": {},
   "outputs": [],
   "source": []
  }
 ],
 "metadata": {
  "kernelspec": {
   "display_name": "python_project",
   "language": "python",
   "name": "python3"
  },
  "language_info": {
   "codemirror_mode": {
    "name": "ipython",
    "version": 3
   },
   "file_extension": ".py",
   "mimetype": "text/x-python",
   "name": "python",
   "nbconvert_exporter": "python",
   "pygments_lexer": "ipython3",
   "version": "3.11.5"
  }
 },
 "nbformat": 4,
 "nbformat_minor": 2
}
