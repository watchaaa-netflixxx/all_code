{
 "cells": [
  {
   "cell_type": "code",
   "execution_count": 16,
   "metadata": {},
   "outputs": [],
   "source": [
    "import all_function as all"
   ]
  },
  {
   "cell_type": "code",
   "execution_count": 12,
   "metadata": {},
   "outputs": [],
   "source": [
    "uploaded_video = '../uploaded_video/stu1_43.mp4'      # (사용자가 업로드한 영상)\n",
    "Vid_Folder_path = '../Vid_Folder/'\t                # (15초 잘라진 동영상이 있는 폴더)\n",
    "image_Folder_path = '../image_Folder'\t            # (32개 이미지가 있는 폴더)\n",
    "data_Folder_path = '../data/'\t\t                # (이미지에서 좌표 뽑아낸 csv가 있는 폴더)\n",
    "model_Folder_path = '../model/'\t                    # (classifycation model이 있는 폴더)\n",
    "count_cut_Folder_path = '../count_cut_video/'        # (카운트 별 잘라진 동영상 있는 폴더)\n",
    "cor_image_Folder_path = '../cor_image_Folder'\t        # (32개 이미지가 있는 폴더)\n",
    "cor_data_Folder_path = '../cor_data/'                   # (correct model 전용 좌표값 csv 있는 폴더)"
   ]
  },
  {
   "cell_type": "code",
   "execution_count": 17,
   "metadata": {},
   "outputs": [
    {
     "name": "stdout",
     "output_type": "stream",
     "text": [
      "Moviepy - Running:\n",
      ">>> \"+ \" \".join(cmd)\n",
      "Moviepy - Command successful\n"
     ]
    },
    {
     "ename": "ValueError",
     "evalue": "in user code:\n\n    File \"c:\\Users\\Playdata\\AppData\\Local\\anaconda3\\envs\\python_project\\Lib\\site-packages\\keras\\src\\engine\\training.py\", line 2416, in predict_function  *\n        return step_function(self, iterator)\n    File \"c:\\Users\\Playdata\\AppData\\Local\\anaconda3\\envs\\python_project\\Lib\\site-packages\\keras\\src\\engine\\training.py\", line 2401, in step_function  **\n        outputs = model.distribute_strategy.run(run_step, args=(data,))\n    File \"c:\\Users\\Playdata\\AppData\\Local\\anaconda3\\envs\\python_project\\Lib\\site-packages\\keras\\src\\engine\\training.py\", line 2389, in run_step  **\n        outputs = model.predict_step(data)\n    File \"c:\\Users\\Playdata\\AppData\\Local\\anaconda3\\envs\\python_project\\Lib\\site-packages\\keras\\src\\engine\\training.py\", line 2357, in predict_step\n        return self(x, training=False)\n    File \"c:\\Users\\Playdata\\AppData\\Local\\anaconda3\\envs\\python_project\\Lib\\site-packages\\keras\\src\\utils\\traceback_utils.py\", line 70, in error_handler\n        raise e.with_traceback(filtered_tb) from None\n    File \"c:\\Users\\Playdata\\AppData\\Local\\anaconda3\\envs\\python_project\\Lib\\site-packages\\keras\\src\\engine\\input_spec.py\", line 298, in assert_input_compatibility\n        raise ValueError(\n\n    ValueError: Input 0 of layer \"sequential_1\" is incompatible with the layer: expected shape=(None, 32, 8), found shape=(None, 32, 107)\n",
     "output_type": "error",
     "traceback": [
      "\u001b[1;31m---------------------------------------------------------------------------\u001b[0m",
      "\u001b[1;31mValueError\u001b[0m                                Traceback (most recent call last)",
      "\u001b[1;32mc:\\Users\\Playdata\\Desktop\\DEV\\project\\finalproject\\all_code\\code_test.ipynb Cell 3\u001b[0m line \u001b[0;36m1\n\u001b[1;32m----> <a href='vscode-notebook-cell:/c%3A/Users/Playdata/Desktop/DEV/project/finalproject/all_code/code_test.ipynb#W2sZmlsZQ%3D%3D?line=0'>1</a>\u001b[0m class_int \u001b[39m=\u001b[39m \u001b[39mall\u001b[39;49m\u001b[39m.\u001b[39;49mclass_model(uploaded_video, Vid_Folder_path, image_Folder_path, data_Folder_path , model_Folder_path)\n",
      "File \u001b[1;32mc:\\Users\\Playdata\\Desktop\\DEV\\project\\finalproject\\all_code\\all_function.py:600\u001b[0m, in \u001b[0;36mclass_model\u001b[1;34m(uploaded_video, Vid_Folder_path, image_Folder_path, data_Folder_path, model_Folder_path)\u001b[0m\n\u001b[0;32m    596\u001b[0m     Xsequence\u001b[39m.\u001b[39mappend(X[i:i\u001b[39m+\u001b[39msequence_length])\n\u001b[0;32m    598\u001b[0m Xsequence \u001b[39m=\u001b[39m np\u001b[39m.\u001b[39marray(Xsequence)\n\u001b[1;32m--> 600\u001b[0m y_pred \u001b[39m=\u001b[39m class_model\u001b[39m.\u001b[39;49mpredict(Xsequence)\n\u001b[0;32m    602\u001b[0m y_pred_class \u001b[39m=\u001b[39m np\u001b[39m.\u001b[39margmax(y_pred, axis\u001b[39m=\u001b[39m\u001b[39m1\u001b[39m)\n\u001b[0;32m    604\u001b[0m \u001b[39mreturn\u001b[39;00m \u001b[39mint\u001b[39m(y_pred_class[\u001b[39m0\u001b[39m])\n",
      "File \u001b[1;32mc:\\Users\\Playdata\\AppData\\Local\\anaconda3\\envs\\python_project\\Lib\\site-packages\\keras\\src\\utils\\traceback_utils.py:70\u001b[0m, in \u001b[0;36mfilter_traceback.<locals>.error_handler\u001b[1;34m(*args, **kwargs)\u001b[0m\n\u001b[0;32m     67\u001b[0m     filtered_tb \u001b[39m=\u001b[39m _process_traceback_frames(e\u001b[39m.\u001b[39m__traceback__)\n\u001b[0;32m     68\u001b[0m     \u001b[39m# To get the full stack trace, call:\u001b[39;00m\n\u001b[0;32m     69\u001b[0m     \u001b[39m# `tf.debugging.disable_traceback_filtering()`\u001b[39;00m\n\u001b[1;32m---> 70\u001b[0m     \u001b[39mraise\u001b[39;00m e\u001b[39m.\u001b[39mwith_traceback(filtered_tb) \u001b[39mfrom\u001b[39;00m \u001b[39mNone\u001b[39;00m\n\u001b[0;32m     71\u001b[0m \u001b[39mfinally\u001b[39;00m:\n\u001b[0;32m     72\u001b[0m     \u001b[39mdel\u001b[39;00m filtered_tb\n",
      "File \u001b[1;32m~\\AppData\\Local\\Temp\\__autograph_generated_filex34wwlko.py:15\u001b[0m, in \u001b[0;36mouter_factory.<locals>.inner_factory.<locals>.tf__predict_function\u001b[1;34m(iterator)\u001b[0m\n\u001b[0;32m     13\u001b[0m \u001b[39mtry\u001b[39;00m:\n\u001b[0;32m     14\u001b[0m     do_return \u001b[39m=\u001b[39m \u001b[39mTrue\u001b[39;00m\n\u001b[1;32m---> 15\u001b[0m     retval_ \u001b[39m=\u001b[39m ag__\u001b[39m.\u001b[39mconverted_call(ag__\u001b[39m.\u001b[39mld(step_function), (ag__\u001b[39m.\u001b[39mld(\u001b[39mself\u001b[39m), ag__\u001b[39m.\u001b[39mld(iterator)), \u001b[39mNone\u001b[39;00m, fscope)\n\u001b[0;32m     16\u001b[0m \u001b[39mexcept\u001b[39;00m:\n\u001b[0;32m     17\u001b[0m     do_return \u001b[39m=\u001b[39m \u001b[39mFalse\u001b[39;00m\n",
      "\u001b[1;31mValueError\u001b[0m: in user code:\n\n    File \"c:\\Users\\Playdata\\AppData\\Local\\anaconda3\\envs\\python_project\\Lib\\site-packages\\keras\\src\\engine\\training.py\", line 2416, in predict_function  *\n        return step_function(self, iterator)\n    File \"c:\\Users\\Playdata\\AppData\\Local\\anaconda3\\envs\\python_project\\Lib\\site-packages\\keras\\src\\engine\\training.py\", line 2401, in step_function  **\n        outputs = model.distribute_strategy.run(run_step, args=(data,))\n    File \"c:\\Users\\Playdata\\AppData\\Local\\anaconda3\\envs\\python_project\\Lib\\site-packages\\keras\\src\\engine\\training.py\", line 2389, in run_step  **\n        outputs = model.predict_step(data)\n    File \"c:\\Users\\Playdata\\AppData\\Local\\anaconda3\\envs\\python_project\\Lib\\site-packages\\keras\\src\\engine\\training.py\", line 2357, in predict_step\n        return self(x, training=False)\n    File \"c:\\Users\\Playdata\\AppData\\Local\\anaconda3\\envs\\python_project\\Lib\\site-packages\\keras\\src\\utils\\traceback_utils.py\", line 70, in error_handler\n        raise e.with_traceback(filtered_tb) from None\n    File \"c:\\Users\\Playdata\\AppData\\Local\\anaconda3\\envs\\python_project\\Lib\\site-packages\\keras\\src\\engine\\input_spec.py\", line 298, in assert_input_compatibility\n        raise ValueError(\n\n    ValueError: Input 0 of layer \"sequential_1\" is incompatible with the layer: expected shape=(None, 32, 8), found shape=(None, 32, 107)\n"
     ]
    }
   ],
   "source": [
    "class_int = all.class_model(uploaded_video, Vid_Folder_path, image_Folder_path, data_Folder_path , model_Folder_path)"
   ]
  },
  {
   "cell_type": "code",
   "execution_count": null,
   "metadata": {},
   "outputs": [],
   "source": []
  }
 ],
 "metadata": {
  "kernelspec": {
   "display_name": "python_project",
   "language": "python",
   "name": "python3"
  },
  "language_info": {
   "codemirror_mode": {
    "name": "ipython",
    "version": 3
   },
   "file_extension": ".py",
   "mimetype": "text/x-python",
   "name": "python",
   "nbconvert_exporter": "python",
   "pygments_lexer": "ipython3",
   "version": "3.11.5"
  }
 },
 "nbformat": 4,
 "nbformat_minor": 2
}
