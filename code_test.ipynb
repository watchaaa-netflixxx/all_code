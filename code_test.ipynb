{
 "cells": [
  {
   "cell_type": "code",
   "execution_count": 12,
   "metadata": {},
   "outputs": [],
   "source": [
    "import all_function as all"
   ]
  },
  {
   "cell_type": "code",
   "execution_count": 6,
   "metadata": {},
   "outputs": [],
   "source": [
    "uploaded_video = '../uploaded_video/stu8_63.mp4'        # (사용자가 업로드한 영상)\n",
    "Vid_Folder_path = '../Vid_Folder/'\t                    # (15초 잘라진 동영상이 있는 폴더)\n",
    "image_Folder_path = '../image_Folder'\t                # (32개 이미지가 있는 폴더)\n",
    "data_Folder_path = '../data/'\t\t                    # (이미지에서 좌표 뽑아낸 csv가 있는 폴더)\n",
    "model_Folder_path = '../model/'\t                        # (classifycation model이 있는 폴더)\n",
    "cut_video = Vid_Folder_path + '15s.mp4'\n",
    "count_cut_Folder_path = '../count_cut_video/'           # (카운트 별 잘라진 동영상 있는 폴더)\n",
    "cor_image_Folder_path = '../cor_image_Folder'\t        # (32개 이미지가 있는 폴더)\n",
    "cor_data_Folder_path = '../cor_data/'                   # (correct model 전용 좌표값 csv 있는 폴더)"
   ]
  },
  {
   "cell_type": "code",
   "execution_count": 7,
   "metadata": {},
   "outputs": [
    {
     "name": "stdout",
     "output_type": "stream",
     "text": [
      "Moviepy - Running:\n",
      ">>> \"+ \" \".join(cmd)\n",
      "Moviepy - Command successful\n",
      "1/1 [==============================] - 2s 2s/step\n"
     ]
    }
   ],
   "source": [
    "class_int = all.class_model(uploaded_video, Vid_Folder_path, image_Folder_path, data_Folder_path , model_Folder_path)"
   ]
  },
  {
   "cell_type": "code",
   "execution_count": 8,
   "metadata": {},
   "outputs": [
    {
     "data": {
      "text/plain": [
       "2"
      ]
     },
     "execution_count": 8,
     "metadata": {},
     "output_type": "execute_result"
    }
   ],
   "source": [
    "class_int"
   ]
  },
  {
   "cell_type": "code",
   "execution_count": 13,
   "metadata": {},
   "outputs": [
    {
     "name": "stdout",
     "output_type": "stream",
     "text": [
      "Error in row: name 'mp_pose' is not defined\n",
      "Error in row: name 'mp_pose' is not defined\n",
      "Error in row: name 'mp_pose' is not defined\n",
      "Error in row: name 'mp_pose' is not defined\n",
      "Error in row: name 'mp_pose' is not defined\n",
      "Error in row: name 'mp_pose' is not defined\n",
      "Error in row: name 'mp_pose' is not defined\n",
      "Error in row: name 'mp_pose' is not defined\n",
      "Error in row: name 'mp_pose' is not defined\n",
      "Error in row: name 'mp_pose' is not defined\n",
      "Error in row: name 'mp_pose' is not defined\n",
      "Error in row: name 'mp_pose' is not defined\n",
      "Error in row: name 'mp_pose' is not defined\n",
      "Error in row: name 'mp_pose' is not defined\n",
      "Error in row: name 'mp_pose' is not defined\n",
      "Error in row: name 'mp_pose' is not defined\n",
      "Error in row: name 'mp_pose' is not defined\n",
      "Error in row: name 'mp_pose' is not defined\n",
      "Error in row: name 'mp_pose' is not defined\n",
      "Error in row: name 'mp_pose' is not defined\n",
      "Error in row: name 'mp_pose' is not defined\n",
      "Error in row: name 'mp_pose' is not defined\n",
      "Error in row: name 'mp_pose' is not defined\n",
      "Error in row: name 'mp_pose' is not defined\n",
      "Error in row: name 'mp_pose' is not defined\n",
      "Error in row: name 'mp_pose' is not defined\n",
      "Error in row: name 'mp_pose' is not defined\n",
      "Error in row: name 'mp_pose' is not defined\n",
      "Error in row: name 'mp_pose' is not defined\n",
      "Error in row: name 'mp_pose' is not defined\n",
      "Error in row: name 'mp_pose' is not defined\n",
      "Error in row: name 'mp_pose' is not defined\n",
      "Error in row: name 'mp_pose' is not defined\n",
      "Error in row: name 'mp_pose' is not defined\n",
      "Error in row: name 'mp_pose' is not defined\n",
      "Error in row: name 'mp_pose' is not defined\n",
      "Error in row: name 'mp_pose' is not defined\n",
      "Error in row: name 'mp_pose' is not defined\n",
      "Error in row: name 'mp_pose' is not defined\n",
      "Error in row: name 'mp_pose' is not defined\n",
      "Error in row: name 'mp_pose' is not defined\n",
      "Error in row: name 'mp_pose' is not defined\n",
      "Error in row: name 'mp_pose' is not defined\n",
      "Error in row: name 'mp_pose' is not defined\n",
      "Error in row: name 'mp_pose' is not defined\n",
      "Error in row: name 'mp_pose' is not defined\n",
      "Error in row: name 'mp_pose' is not defined\n",
      "Error in row: name 'mp_pose' is not defined\n",
      "Error in row: name 'mp_pose' is not defined\n",
      "Error in row: name 'mp_pose' is not defined\n",
      "Error in row: name 'mp_pose' is not defined\n",
      "Error in row: name 'mp_pose' is not defined\n",
      "Error in row: name 'mp_pose' is not defined\n",
      "Error in row: name 'mp_pose' is not defined\n",
      "Error in row: name 'mp_pose' is not defined\n",
      "Error in row: name 'mp_pose' is not defined\n",
      "Error in row: name 'mp_pose' is not defined\n",
      "Error in row: name 'mp_pose' is not defined\n",
      "Error in row: name 'mp_pose' is not defined\n",
      "Error in row: name 'mp_pose' is not defined\n",
      "Error in row: name 'mp_pose' is not defined\n",
      "Error in row: name 'mp_pose' is not defined\n",
      "Error in row: name 'mp_pose' is not defined\n",
      "Error in row: name 'mp_pose' is not defined\n",
      "Error in row: name 'mp_pose' is not defined\n",
      "Error in row: name 'mp_pose' is not defined\n",
      "Error in row: name 'mp_pose' is not defined\n",
      "Error in row: name 'mp_pose' is not defined\n",
      "Error in row: name 'mp_pose' is not defined\n",
      "Error in row: name 'mp_pose' is not defined\n",
      "Error in row: name 'mp_pose' is not defined\n",
      "Error in row: name 'mp_pose' is not defined\n",
      "Error in row: name 'mp_pose' is not defined\n",
      "Error in row: name 'mp_pose' is not defined\n",
      "Error in row: name 'mp_pose' is not defined\n",
      "Error in row: name 'mp_pose' is not defined\n",
      "Error in row: name 'mp_pose' is not defined\n",
      "Error in row: name 'mp_pose' is not defined\n",
      "Error in row: name 'mp_pose' is not defined\n",
      "Error in row: name 'mp_pose' is not defined\n",
      "Error in row: name 'mp_pose' is not defined\n",
      "Error in row: name 'mp_pose' is not defined\n",
      "Error in row: name 'mp_pose' is not defined\n",
      "Error in row: name 'mp_pose' is not defined\n",
      "Error in row: name 'mp_pose' is not defined\n",
      "Error in row: name 'mp_pose' is not defined\n",
      "Error in row: name 'mp_pose' is not defined\n",
      "Error in row: name 'mp_pose' is not defined\n",
      "Error in row: name 'mp_pose' is not defined\n",
      "Error in row: name 'mp_pose' is not defined\n",
      "Error in row: name 'mp_pose' is not defined\n",
      "Error in row: name 'mp_pose' is not defined\n",
      "Error in row: name 'mp_pose' is not defined\n",
      "Error in row: name 'mp_pose' is not defined\n",
      "Error in row: name 'mp_pose' is not defined\n",
      "Error in row: name 'mp_pose' is not defined\n",
      "Error in row: name 'mp_pose' is not defined\n",
      "Error in row: name 'mp_pose' is not defined\n",
      "Error in row: name 'mp_pose' is not defined\n",
      "Error in row: name 'mp_pose' is not defined\n",
      "Error in row: name 'mp_pose' is not defined\n",
      "Error in row: name 'mp_pose' is not defined\n",
      "Error in row: name 'mp_pose' is not defined\n",
      "Error in row: name 'mp_pose' is not defined\n",
      "Error in row: name 'mp_pose' is not defined\n",
      "Error in row: name 'mp_pose' is not defined\n",
      "Error in row: name 'mp_pose' is not defined\n",
      "Error in row: name 'mp_pose' is not defined\n",
      "Error in row: name 'mp_pose' is not defined\n",
      "Error in row: name 'mp_pose' is not defined\n",
      "Error in row: name 'mp_pose' is not defined\n",
      "Error in row: name 'mp_pose' is not defined\n",
      "Error in row: name 'mp_pose' is not defined\n",
      "Error in row: name 'mp_pose' is not defined\n",
      "Error in row: name 'mp_pose' is not defined\n",
      "Error in row: name 'mp_pose' is not defined\n",
      "Error in row: name 'mp_pose' is not defined\n",
      "Error in row: name 'mp_pose' is not defined\n",
      "Error in row: name 'mp_pose' is not defined\n",
      "Error in row: name 'mp_pose' is not defined\n",
      "Error in row: name 'mp_pose' is not defined\n",
      "Error in row: name 'mp_pose' is not defined\n",
      "Error in row: name 'mp_pose' is not defined\n",
      "Error in row: name 'mp_pose' is not defined\n",
      "Error in row: name 'mp_pose' is not defined\n",
      "Error in row: name 'mp_pose' is not defined\n",
      "Error in row: name 'mp_pose' is not defined\n",
      "Error in row: name 'mp_pose' is not defined\n",
      "Error in row: name 'mp_pose' is not defined\n",
      "Error in row: name 'mp_pose' is not defined\n",
      "Error in row: name 'mp_pose' is not defined\n",
      "Error in row: name 'mp_pose' is not defined\n",
      "Error in row: name 'mp_pose' is not defined\n",
      "Error in row: name 'mp_pose' is not defined\n",
      "Error in row: name 'mp_pose' is not defined\n",
      "Error in row: name 'mp_pose' is not defined\n",
      "Error in row: name 'mp_pose' is not defined\n",
      "Error in row: name 'mp_pose' is not defined\n",
      "Error in row: name 'mp_pose' is not defined\n",
      "Error in row: name 'mp_pose' is not defined\n",
      "Error in row: name 'mp_pose' is not defined\n",
      "Error in row: name 'mp_pose' is not defined\n",
      "Error in row: name 'mp_pose' is not defined\n",
      "Error in row: name 'mp_pose' is not defined\n",
      "Error in row: name 'mp_pose' is not defined\n",
      "Error in row: name 'mp_pose' is not defined\n",
      "Error in row: name 'mp_pose' is not defined\n",
      "Error in row: name 'mp_pose' is not defined\n",
      "Error in row: name 'mp_pose' is not defined\n",
      "Error in row: name 'mp_pose' is not defined\n",
      "Error in row: name 'mp_pose' is not defined\n",
      "Error in row: name 'mp_pose' is not defined\n",
      "Error in row: name 'mp_pose' is not defined\n",
      "Error in row: name 'mp_pose' is not defined\n",
      "Error in row: name 'mp_pose' is not defined\n",
      "Error in row: name 'mp_pose' is not defined\n",
      "Error in row: name 'mp_pose' is not defined\n",
      "Error in row: name 'mp_pose' is not defined\n",
      "Error in row: name 'mp_pose' is not defined\n",
      "Error in row: name 'mp_pose' is not defined\n",
      "Error in row: name 'mp_pose' is not defined\n",
      "Error in row: name 'mp_pose' is not defined\n",
      "Error in row: name 'mp_pose' is not defined\n",
      "Error in row: name 'mp_pose' is not defined\n",
      "Error in row: name 'mp_pose' is not defined\n",
      "Error in row: name 'mp_pose' is not defined\n",
      "Error in row: name 'mp_pose' is not defined\n",
      "Error in row: name 'mp_pose' is not defined\n",
      "Error in row: name 'mp_pose' is not defined\n",
      "Error in row: name 'mp_pose' is not defined\n",
      "Error in row: name 'mp_pose' is not defined\n",
      "Error in row: name 'mp_pose' is not defined\n",
      "Error in row: name 'mp_pose' is not defined\n",
      "Error in row: name 'mp_pose' is not defined\n",
      "Error in row: name 'mp_pose' is not defined\n",
      "Error in row: name 'mp_pose' is not defined\n",
      "Error in row: name 'mp_pose' is not defined\n",
      "Error in row: name 'mp_pose' is not defined\n"
     ]
    },
    {
     "ename": "KeyboardInterrupt",
     "evalue": "",
     "output_type": "error",
     "traceback": [
      "\u001b[1;31m---------------------------------------------------------------------------\u001b[0m",
      "\u001b[1;31mKeyboardInterrupt\u001b[0m                         Traceback (most recent call last)",
      "\u001b[1;32mc:\\Users\\Playdata\\Desktop\\DEV\\project\\finalproject\\all_code\\code_test.ipynb Cell 5\u001b[0m line \u001b[0;36m1\n\u001b[1;32m----> <a href='vscode-notebook-cell:/c%3A/Users/Playdata/Desktop/DEV/project/finalproject/all_code/code_test.ipynb#W4sZmlsZQ%3D%3D?line=0'>1</a>\u001b[0m \u001b[39mall\u001b[39;49m\u001b[39m.\u001b[39;49mvid2time(class_int, cut_video, count_cut_Folder_path)\n",
      "File \u001b[1;32mc:\\Users\\Playdata\\Desktop\\DEV\\project\\finalproject\\all_code\\all_function.py:563\u001b[0m, in \u001b[0;36mvid2time\u001b[1;34m(class_int, cut_video, count_cut_Folder_path)\u001b[0m\n\u001b[0;32m    560\u001b[0m frame \u001b[39m=\u001b[39m cv2\u001b[39m.\u001b[39mresize(frame, (\u001b[39m800\u001b[39m, \u001b[39m480\u001b[39m), interpolation\u001b[39m=\u001b[39mcv2\u001b[39m.\u001b[39mINTER_AREA)\n\u001b[0;32m    561\u001b[0m frame \u001b[39m=\u001b[39m cv2\u001b[39m.\u001b[39mcvtColor(frame, cv2\u001b[39m.\u001b[39mCOLOR_BGR2RGB)\n\u001b[1;32m--> 563\u001b[0m results \u001b[39m=\u001b[39m pose\u001b[39m.\u001b[39;49mprocess(frame)\n\u001b[0;32m    565\u001b[0m frame \u001b[39m=\u001b[39m cv2\u001b[39m.\u001b[39mcvtColor(frame, cv2\u001b[39m.\u001b[39mCOLOR_RGB2BGR)\n\u001b[0;32m    567\u001b[0m \u001b[39mtry\u001b[39;00m:\n",
      "File \u001b[1;32mc:\\Users\\Playdata\\AppData\\Local\\anaconda3\\envs\\python_project\\Lib\\site-packages\\mediapipe\\python\\solutions\\pose.py:185\u001b[0m, in \u001b[0;36mPose.process\u001b[1;34m(self, image)\u001b[0m\n\u001b[0;32m    164\u001b[0m \u001b[39mdef\u001b[39;00m \u001b[39mprocess\u001b[39m(\u001b[39mself\u001b[39m, image: np\u001b[39m.\u001b[39mndarray) \u001b[39m-\u001b[39m\u001b[39m>\u001b[39m NamedTuple:\n\u001b[0;32m    165\u001b[0m \u001b[39m  \u001b[39m\u001b[39m\"\"\"Processes an RGB image and returns the pose landmarks on the most prominent person detected.\u001b[39;00m\n\u001b[0;32m    166\u001b[0m \n\u001b[0;32m    167\u001b[0m \u001b[39m  Args:\u001b[39;00m\n\u001b[1;32m   (...)\u001b[0m\n\u001b[0;32m    182\u001b[0m \u001b[39m         \"enable_segmentation\" is set to true.\u001b[39;00m\n\u001b[0;32m    183\u001b[0m \u001b[39m  \"\"\"\u001b[39;00m\n\u001b[1;32m--> 185\u001b[0m   results \u001b[39m=\u001b[39m \u001b[39msuper\u001b[39;49m()\u001b[39m.\u001b[39;49mprocess(input_data\u001b[39m=\u001b[39;49m{\u001b[39m'\u001b[39;49m\u001b[39mimage\u001b[39;49m\u001b[39m'\u001b[39;49m: image})\n\u001b[0;32m    186\u001b[0m   \u001b[39mif\u001b[39;00m results\u001b[39m.\u001b[39mpose_landmarks:  \u001b[39m# pytype: disable=attribute-error\u001b[39;00m\n\u001b[0;32m    187\u001b[0m     \u001b[39mfor\u001b[39;00m landmark \u001b[39min\u001b[39;00m results\u001b[39m.\u001b[39mpose_landmarks\u001b[39m.\u001b[39mlandmark:  \u001b[39m# pytype: disable=attribute-error\u001b[39;00m\n",
      "File \u001b[1;32mc:\\Users\\Playdata\\AppData\\Local\\anaconda3\\envs\\python_project\\Lib\\site-packages\\mediapipe\\python\\solution_base.py:365\u001b[0m, in \u001b[0;36mSolutionBase.process\u001b[1;34m(self, input_data)\u001b[0m\n\u001b[0;32m    359\u001b[0m   \u001b[39melse\u001b[39;00m:\n\u001b[0;32m    360\u001b[0m     \u001b[39mself\u001b[39m\u001b[39m.\u001b[39m_graph\u001b[39m.\u001b[39madd_packet_to_input_stream(\n\u001b[0;32m    361\u001b[0m         stream\u001b[39m=\u001b[39mstream_name,\n\u001b[0;32m    362\u001b[0m         packet\u001b[39m=\u001b[39m\u001b[39mself\u001b[39m\u001b[39m.\u001b[39m_make_packet(input_stream_type,\n\u001b[0;32m    363\u001b[0m                                  data)\u001b[39m.\u001b[39mat(\u001b[39mself\u001b[39m\u001b[39m.\u001b[39m_simulated_timestamp))\n\u001b[1;32m--> 365\u001b[0m \u001b[39mself\u001b[39;49m\u001b[39m.\u001b[39;49m_graph\u001b[39m.\u001b[39;49mwait_until_idle()\n\u001b[0;32m    366\u001b[0m \u001b[39m# Create a NamedTuple object where the field names are mapping to the graph\u001b[39;00m\n\u001b[0;32m    367\u001b[0m \u001b[39m# output stream names.\u001b[39;00m\n\u001b[0;32m    368\u001b[0m solution_outputs \u001b[39m=\u001b[39m collections\u001b[39m.\u001b[39mnamedtuple(\n\u001b[0;32m    369\u001b[0m     \u001b[39m'\u001b[39m\u001b[39mSolutionOutputs\u001b[39m\u001b[39m'\u001b[39m, \u001b[39mself\u001b[39m\u001b[39m.\u001b[39m_output_stream_type_info\u001b[39m.\u001b[39mkeys())\n",
      "\u001b[1;31mKeyboardInterrupt\u001b[0m: "
     ]
    }
   ],
   "source": [
    "all.vid2time(class_int, cut_video, count_cut_Folder_path)"
   ]
  },
  {
   "cell_type": "code",
   "execution_count": 17,
   "metadata": {},
   "outputs": [],
   "source": [
    "cor_list = all.correct_model(class_int, Vid_Folder_path, count_cut_Folder_path, cor_image_Folder_path, cor_data_Folder_path, model_Folder_path)"
   ]
  },
  {
   "cell_type": "code",
   "execution_count": 14,
   "metadata": {},
   "outputs": [
    {
     "data": {
      "text/plain": [
       "[]"
      ]
     },
     "execution_count": 14,
     "metadata": {},
     "output_type": "execute_result"
    }
   ],
   "source": [
    "cor_list"
   ]
  },
  {
   "cell_type": "code",
   "execution_count": null,
   "metadata": {},
   "outputs": [],
   "source": []
  }
 ],
 "metadata": {
  "kernelspec": {
   "display_name": "python_project",
   "language": "python",
   "name": "python3"
  },
  "language_info": {
   "codemirror_mode": {
    "name": "ipython",
    "version": 3
   },
   "file_extension": ".py",
   "mimetype": "text/x-python",
   "name": "python",
   "nbconvert_exporter": "python",
   "pygments_lexer": "ipython3",
   "version": "3.11.5"
  }
 },
 "nbformat": 4,
 "nbformat_minor": 2
}
