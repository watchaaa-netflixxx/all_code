{
 "cells": [
  {
   "cell_type": "code",
   "execution_count": 1,
   "metadata": {},
   "outputs": [],
   "source": [
    "import all_function as all"
   ]
  },
  {
   "cell_type": "markdown",
   "metadata": {},
   "source": [
    "#### 경로 설정"
   ]
  },
  {
   "cell_type": "code",
   "execution_count": 2,
   "metadata": {},
   "outputs": [],
   "source": [
    "uploaded_video = 'C:\\\\Users\\\\Playdata\\\\Desktop\\\\DEV\\\\project\\\\finalproject\\\\all_code\\\\uploaded_video\\\\stu1_45.mp4'        # (사용자가 업로드한 영상)\n",
    "Vid_Folder_path = 'C:\\\\Users\\\\Playdata\\\\Desktop\\\\DEV\\\\project\\\\finalproject\\\\all_code\\\\Vid_Folder\\\\'\t                    # (15초 잘라진 동영상이 있는 폴더)\n",
    "image_Folder_path = 'C:\\\\Users\\\\Playdata\\\\Desktop\\\\DEV\\\\project\\\\finalproject\\\\all_code\\\\image_Folder'\t                # (32개 이미지가 있는 폴더)\n",
    "data_Folder_path = 'C:\\\\Users\\\\Playdata\\\\Desktop\\\\DEV\\\\project\\\\finalproject\\\\all_code\\\\data\\\\'\t\t                    # (이미지에서 좌표 뽑아낸 csv가 있는 폴더)\n",
    "model_Folder_path = 'C:\\\\Users\\\\Playdata\\\\Desktop\\\\DEV\\\\project\\\\finalproject\\\\all_code\\\\model\\\\'\t                        # (classifycation model이 있는 폴더)\n",
    "cut_video = Vid_Folder_path + '15s.mp4'\n",
    "count_cut_Folder_path = 'C:\\\\Users\\\\Playdata\\\\Desktop\\\\DEV\\\\project\\\\finalproject\\\\all_code\\\\count_cut_video\\\\'           # (카운트 별 잘라진 동영상 있는 폴더)\n",
    "cor_image_Folder_path = 'C:\\\\Users\\\\Playdata\\\\Desktop\\\\DEV\\\\project\\\\finalproject\\\\all_code\\\\cor_image_Folder'\t        # (32개 이미지가 있는 폴더)\n",
    "cor_data_Folder_path = 'C:\\\\Users\\\\Playdata\\\\Desktop\\\\DEV\\\\project\\\\finalproject\\\\all_code\\\\cor_data\\\\'                   # (correct model 전용 좌표값 csv 있는 폴더)\n",
    "MVid_Folder_path = 'C:\\\\Users\\\\Playdata\\\\Desktop\\\\DEV\\\\project\\\\finalproject\\\\all_code\\\\MVid_Folder\\\\'"
   ]
  },
  {
   "cell_type": "code",
   "execution_count": 3,
   "metadata": {},
   "outputs": [],
   "source": [
    "# '../' 코드로 먼저 변수 저장하여 밑에 cell 실행시키고, 오류나면 './' 코드로 변수 저장하여 다시 실행시키고, 다시 '../' 코드로 변수 저장하여 실행시켜야함"
   ]
  },
  {
   "cell_type": "markdown",
   "metadata": {},
   "source": [
    "#### 분류모델 값 "
   ]
  },
  {
   "cell_type": "code",
   "execution_count": 4,
   "metadata": {},
   "outputs": [
    {
     "name": "stdout",
     "output_type": "stream",
     "text": [
      "Moviepy - Running:\n",
      ">>> \"+ \" \".join(cmd)\n",
      "Moviepy - Command successful\n",
      "class_model : vid_cut finish\n",
      "class_model : vid2img finish\n",
      "class_model : img2data finish\n",
      "X.columns length :  18\n",
      "y_pred length:  33\n",
      "The most frequent class is : 4.0\n"
     ]
    }
   ],
   "source": [
    "class_int = all.class_model(uploaded_video, Vid_Folder_path, image_Folder_path, data_Folder_path , model_Folder_path)"
   ]
  },
  {
   "cell_type": "code",
   "execution_count": 5,
   "metadata": {},
   "outputs": [
    {
     "data": {
      "text/plain": [
       "4"
      ]
     },
     "execution_count": 5,
     "metadata": {},
     "output_type": "execute_result"
    }
   ],
   "source": [
    "class_int"
   ]
  },
  {
   "cell_type": "markdown",
   "metadata": {},
   "source": [
    "#### 정확도 모델 값"
   ]
  },
  {
   "cell_type": "code",
   "execution_count": 6,
   "metadata": {},
   "outputs": [],
   "source": [
    "# all.vid2time(class_int, 'C:\\\\Users\\\\Playdata\\\\Desktop\\\\DEV\\\\project\\\\finalproject\\\\all_code\\\\Vid_Folder\\\\stu3_611.mp4', count_cut_Folder_path)"
   ]
  },
  {
   "cell_type": "code",
   "execution_count": 7,
   "metadata": {},
   "outputs": [
    {
     "name": "stdout",
     "output_type": "stream",
     "text": [
      "len(frame_numbers_list) :  2\n",
      "correct_model : vid2time finish\n",
      "C:\\Users\\Playdata\\Desktop\\DEV\\project\\finalproject\\all_code\\count_cut_video\\count_1.mp4\n",
      "correct_model : vid2img_anything finish\n",
      "correct_model : img2data finish\n",
      "X shape:  (32, 19)\n",
      "Xsequence shape:  (1, 32, 19)\n",
      "1/1 [==============================] - 5s 5s/step\n",
      "[0]\n"
     ]
    },
    {
     "ename": "IndexError",
     "evalue": "index 1 is out of bounds for axis 0 with size 1",
     "output_type": "error",
     "traceback": [
      "\u001b[1;31m---------------------------------------------------------------------------\u001b[0m",
      "\u001b[1;31mIndexError\u001b[0m                                Traceback (most recent call last)",
      "\u001b[1;32mc:\\Users\\Playdata\\Desktop\\DEV\\project\\finalproject\\all_code\\code_test.ipynb Cell 10\u001b[0m line \u001b[0;36m1\n\u001b[1;32m----> <a href='vscode-notebook-cell:/c%3A/Users/Playdata/Desktop/DEV/project/finalproject/all_code/code_test.ipynb#X12sZmlsZQ%3D%3D?line=0'>1</a>\u001b[0m cor_list \u001b[39m=\u001b[39m \u001b[39mall\u001b[39;49m\u001b[39m.\u001b[39;49mcorrect_model(class_int, Vid_Folder_path, count_cut_Folder_path, cor_image_Folder_path, cor_data_Folder_path, model_Folder_path)\n",
      "File \u001b[1;32mc:\\Users\\Playdata\\Desktop\\DEV\\project\\finalproject\\all_code\\all_function.py:782\u001b[0m, in \u001b[0;36mcorrect_model\u001b[1;34m(class_int, Vid_Folder_path, count_cut_Folder_path, cor_image_Folder_path, cor_data_Folder_path, model_Folder_path)\u001b[0m\n\u001b[0;32m    778\u001b[0m y_pred_class \u001b[39m=\u001b[39m np\u001b[39m.\u001b[39margmax(y_pred, axis\u001b[39m=\u001b[39m\u001b[39m1\u001b[39m)\n\u001b[0;32m    780\u001b[0m \u001b[39mprint\u001b[39m(y_pred_class)\n\u001b[1;32m--> 782\u001b[0m \u001b[39mprint\u001b[39m(\u001b[39mint\u001b[39m(y_pred_class[\u001b[39m1\u001b[39;49m]))\n\u001b[0;32m    784\u001b[0m cor_label\u001b[39m.\u001b[39mappend(\u001b[39mint\u001b[39m(y_pred_class[\u001b[39m1\u001b[39m]))\n\u001b[0;32m    786\u001b[0m \u001b[39m# print(cor_label)\u001b[39;00m\n",
      "\u001b[1;31mIndexError\u001b[0m: index 1 is out of bounds for axis 0 with size 1"
     ]
    }
   ],
   "source": [
    "cor_list = all.correct_model(class_int, Vid_Folder_path, count_cut_Folder_path, cor_image_Folder_path, cor_data_Folder_path, model_Folder_path)"
   ]
  },
  {
   "cell_type": "code",
   "execution_count": null,
   "metadata": {},
   "outputs": [],
   "source": [
    "cor_list"
   ]
  },
  {
   "cell_type": "markdown",
   "metadata": {},
   "source": [
    "#### 스켈레톤 & 운동정보 화면 저장"
   ]
  },
  {
   "cell_type": "code",
   "execution_count": null,
   "metadata": {},
   "outputs": [],
   "source": [
    "all.vid2Mvid(class_int, Vid_Folder_path, MVid_Folder_path, cor_list)"
   ]
  },
  {
   "cell_type": "code",
   "execution_count": null,
   "metadata": {},
   "outputs": [],
   "source": []
  }
 ],
 "metadata": {
  "kernelspec": {
   "display_name": "python_project",
   "language": "python",
   "name": "python3"
  },
  "language_info": {
   "codemirror_mode": {
    "name": "ipython",
    "version": 3
   },
   "file_extension": ".py",
   "mimetype": "text/x-python",
   "name": "python",
   "nbconvert_exporter": "python",
   "pygments_lexer": "ipython3",
   "version": "3.11.5"
  }
 },
 "nbformat": 4,
 "nbformat_minor": 2
}
