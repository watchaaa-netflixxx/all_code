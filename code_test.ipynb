{
 "cells": [
  {
   "cell_type": "code",
   "execution_count": 2,
   "metadata": {},
   "outputs": [],
   "source": [
    "import all_function as all"
   ]
  },
  {
   "cell_type": "markdown",
   "metadata": {},
   "source": [
    "#### 경로 설정"
   ]
  },
  {
   "cell_type": "code",
   "execution_count": 10,
   "metadata": {},
   "outputs": [],
   "source": [
    "uploaded_video = '../uploaded_video/stu8_63.mp4'        # (사용자가 업로드한 영상)\n",
    "Vid_Folder_path = '../Vid_Folder/'\t                    # (15초 잘라진 동영상이 있는 폴더)\n",
    "image_Folder_path = '../image_Folder'\t                # (32개 이미지가 있는 폴더)\n",
    "data_Folder_path = '../data/'\t\t                    # (이미지에서 좌표 뽑아낸 csv가 있는 폴더)\n",
    "model_Folder_path = '../model/'\t                        # (classifycation model이 있는 폴더)\n",
    "cut_video = Vid_Folder_path + '15s.mp4'\n",
    "count_cut_Folder_path = '../count_cut_video/'           # (카운트 별 잘라진 동영상 있는 폴더)\n",
    "cor_image_Folder_path = '../cor_image_Folder'\t        # (32개 이미지가 있는 폴더)\n",
    "cor_data_Folder_path = '../cor_data/'                   # (correct model 전용 좌표값 csv 있는 폴더)"
   ]
  },
  {
   "cell_type": "code",
   "execution_count": 8,
   "metadata": {},
   "outputs": [],
   "source": [
    "uploaded_video = './uploaded_video/stu8_63.mp4'        # (사용자가 업로드한 영상)\n",
    "Vid_Folder_path = './Vid_Folder/'\t                    # (15초 잘라진 동영상이 있는 폴더)\n",
    "image_Folder_path = './image_Folder'\t                # (32개 이미지가 있는 폴더)\n",
    "data_Folder_path = './data/'\t\t                    # (이미지에서 좌표 뽑아낸 csv가 있는 폴더)\n",
    "model_Folder_path = './model/'\t                        # (classifycation model이 있는 폴더)\n",
    "cut_video = Vid_Folder_path + '15s.mp4'\n",
    "count_cut_Folder_path = './count_cut_video/'           # (카운트 별 잘라진 동영상 있는 폴더)\n",
    "cor_image_Folder_path = './cor_image_Folder'\t        # (32개 이미지가 있는 폴더)\n",
    "cor_data_Folder_path = './cor_data/'                   # (correct model 전용 좌표값 csv 있는 폴더)"
   ]
  },
  {
   "cell_type": "code",
   "execution_count": null,
   "metadata": {},
   "outputs": [],
   "source": [
    "# '../' 코드로 먼저 변수 저장하여 밑에 cell 실행시키고, 오류나면 './' 코드로 변수 저장하여 다시 실행시키고, 다시 '../' 코드로 변수 저장하여 실행시켜야함"
   ]
  },
  {
   "cell_type": "markdown",
   "metadata": {},
   "source": [
    "#### 분류모델 값 "
   ]
  },
  {
   "cell_type": "code",
   "execution_count": 11,
   "metadata": {},
   "outputs": [
    {
     "name": "stdout",
     "output_type": "stream",
     "text": [
      "Moviepy - Running:\n",
      ">>> \"+ \" \".join(cmd)\n",
      "Moviepy - Command successful\n",
      "1/1 [==============================] - 2s 2s/step\n"
     ]
    }
   ],
   "source": [
    "class_int = all.class_model(uploaded_video, Vid_Folder_path, image_Folder_path, data_Folder_path , model_Folder_path)"
   ]
  },
  {
   "cell_type": "code",
   "execution_count": 12,
   "metadata": {},
   "outputs": [
    {
     "data": {
      "text/plain": [
       "2"
      ]
     },
     "execution_count": 12,
     "metadata": {},
     "output_type": "execute_result"
    }
   ],
   "source": [
    "class_int"
   ]
  },
  {
   "cell_type": "markdown",
   "metadata": {},
   "source": [
    "#### 정확도 모델 값"
   ]
  },
  {
   "cell_type": "code",
   "execution_count": 13,
   "metadata": {},
   "outputs": [],
   "source": [
    "all.vid2time(class_int, cut_video, count_cut_Folder_path)"
   ]
  },
  {
   "cell_type": "code",
   "execution_count": 14,
   "metadata": {},
   "outputs": [
    {
     "name": "stdout",
     "output_type": "stream",
     "text": [
      "../count_cut_video\\count_1.mp4\n",
      "(32, 107)\n",
      "1/1 [==============================] - 2s 2s/step\n",
      "0\n",
      "../count_cut_video\\count_2.mp4\n",
      "(32, 107)\n",
      "1/1 [==============================] - 2s 2s/step\n",
      "0\n",
      "../count_cut_video\\count_3.mp4\n",
      "(32, 107)\n",
      "1/1 [==============================] - 2s 2s/step\n",
      "0\n",
      "../count_cut_video\\count_4.mp4\n",
      "(32, 107)\n",
      "WARNING:tensorflow:5 out of the last 5 calls to <function Model.make_predict_function.<locals>.predict_function at 0x0000022B3C59E3E0> triggered tf.function retracing. Tracing is expensive and the excessive number of tracings could be due to (1) creating @tf.function repeatedly in a loop, (2) passing tensors with different shapes, (3) passing Python objects instead of tensors. For (1), please define your @tf.function outside of the loop. For (2), @tf.function has reduce_retracing=True option that can avoid unnecessary retracing. For (3), please refer to https://www.tensorflow.org/guide/function#controlling_retracing and https://www.tensorflow.org/api_docs/python/tf/function for  more details.\n",
      "1/1 [==============================] - 2s 2s/step\n",
      "0\n",
      "../count_cut_video\\count_5.mp4\n",
      "(32, 107)\n",
      "WARNING:tensorflow:6 out of the last 6 calls to <function Model.make_predict_function.<locals>.predict_function at 0x0000022B3B9C8180> triggered tf.function retracing. Tracing is expensive and the excessive number of tracings could be due to (1) creating @tf.function repeatedly in a loop, (2) passing tensors with different shapes, (3) passing Python objects instead of tensors. For (1), please define your @tf.function outside of the loop. For (2), @tf.function has reduce_retracing=True option that can avoid unnecessary retracing. For (3), please refer to https://www.tensorflow.org/guide/function#controlling_retracing and https://www.tensorflow.org/api_docs/python/tf/function for  more details.\n",
      "1/1 [==============================] - 2s 2s/step\n",
      "0\n",
      "../count_cut_video\\count_6.mp4\n",
      "(32, 107)\n",
      "1/1 [==============================] - 2s 2s/step\n",
      "0\n",
      "../count_cut_video\\count_7.mp4\n",
      "(32, 107)\n",
      "1/1 [==============================] - 2s 2s/step\n",
      "0\n",
      "../count_cut_video\\count_8.mp4\n",
      "(32, 107)\n",
      "1/1 [==============================] - 2s 2s/step\n",
      "0\n"
     ]
    }
   ],
   "source": [
    "cor_list = all.correct_model(class_int, Vid_Folder_path, count_cut_Folder_path, cor_image_Folder_path, cor_data_Folder_path, model_Folder_path)"
   ]
  },
  {
   "cell_type": "code",
   "execution_count": 15,
   "metadata": {},
   "outputs": [
    {
     "data": {
      "text/plain": [
       "[0, 0, 0, 0, 0, 0, 0, 0]"
      ]
     },
     "execution_count": 15,
     "metadata": {},
     "output_type": "execute_result"
    }
   ],
   "source": [
    "cor_list"
   ]
  },
  {
   "cell_type": "code",
   "execution_count": null,
   "metadata": {},
   "outputs": [],
   "source": []
  }
 ],
 "metadata": {
  "kernelspec": {
   "display_name": "python_project",
   "language": "python",
   "name": "python3"
  },
  "language_info": {
   "codemirror_mode": {
    "name": "ipython",
    "version": 3
   },
   "file_extension": ".py",
   "mimetype": "text/x-python",
   "name": "python",
   "nbconvert_exporter": "python",
   "pygments_lexer": "ipython3",
   "version": "3.11.5"
  }
 },
 "nbformat": 4,
 "nbformat_minor": 2
}
