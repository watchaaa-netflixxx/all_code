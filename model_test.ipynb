{
 "cells": [
  {
   "cell_type": "code",
   "execution_count": 1,
   "metadata": {},
   "outputs": [],
   "source": [
    "import os\n",
    "import cv2\n",
    "import math\n",
    "import numpy as np\n",
    "import pandas as pd\n",
    "import mediapipe as mp\n",
    "import argparse\n",
    "import moviepy.editor\n",
    "from moviepy.video.io.ffmpeg_tools import ffmpeg_extract_subclip\n",
    "from moviepy.editor import VideoFileClip\n",
    "from glob import glob\n",
    "import tensorflow as tf\n",
    "from tensorflow import keras\n",
    "from tensorflow.keras import layers"
   ]
  },
  {
   "cell_type": "code",
   "execution_count": 2,
   "metadata": {},
   "outputs": [],
   "source": [
    "def calculate_3d(point1, point2, point3):\n",
    "    # Calculate the vectors between the left hand, elbow, and shoulder landmarks\n",
    "    point_1_2 = [(point2[i] - point1[i]) for i in range(3)]\n",
    "    point_2_3 = [(point2[i] - point3[i]) for i in range(3)]\n",
    "\n",
    "    # Calculate the dot product and the magnitudes of the vectors\n",
    "    dot_product = sum([point_1_2[i] * point_2_3[i] for i in range(3)])\n",
    "    point_1_2_mag = math.sqrt(sum([coord**2 for coord in point_1_2]))\n",
    "    point_2_3_mag = math.sqrt(sum([coord**2 for coord in point_2_3]))\n",
    "\n",
    "    # Calculate the angle between the left hand, elbow, and shoulder landmarks in degrees\n",
    "    angle = math.degrees(math.acos(dot_product / (point_1_2_mag * point_2_3_mag)))\n",
    "\n",
    "    return angle"
   ]
  },
  {
   "cell_type": "code",
   "execution_count": 3,
   "metadata": {},
   "outputs": [
    {
     "name": "stdout",
     "output_type": "stream",
     "text": [
      "1/1 [==============================] - 2s 2s/step\n"
     ]
    }
   ],
   "source": [
    "# 분류 model load\n",
    "class_model = tf.keras.models.load_model('./model/classify_model.h5')\n",
    "# 32*99 dataframe\n",
    "df_cor = pd.read_csv('./data/coordinate.csv')\n",
    "point_groups = [\n",
    "('LEFT_SHOULDER', 'LEFT_ELBOW', 'LEFT_WRIST'),\n",
    "('LEFT_HIP', 'LEFT_SHOULDER', 'LEFT_ELBOW'),\n",
    "('LEFT_KNEE', 'LEFT_HIP', 'LEFT_SHOULDER'),\n",
    "('LEFT_ANKLE', 'LEFT_KNEE', 'LEFT_HIP'),\n",
    "('RIGHT_SHOULDER', 'RIGHT_ELBOW', 'RIGHT_WRIST'),\n",
    "('RIGHT_HIP', 'RIGHT_SHOULDER', 'RIGHT_ELBOW'),\n",
    "('RIGHT_KNEE', 'RIGHT_HIP', 'RIGHT_SHOULDER'),\n",
    "('RIGHT_ANKLE', 'RIGHT_KNEE', 'RIGHT_HIP')\n",
    "]\n",
    "# 열 이름 리스트 만들기\n",
    "column_names = [f'{group[0]}_ANGLE' for group in point_groups]\n",
    "# 각 그룹의 각도 계산 및 데이터프레임에 추가\n",
    "for group, col_name in zip(point_groups, column_names):\n",
    "    df_cor[col_name] = df_cor.apply(lambda row: calculate_3d(\n",
    "        [row[f'{group[0]}.x'], row[f'{group[0]}.y'], row[f'{group[0]}.z']],\n",
    "        [row[f'{group[1]}.x'], row[f'{group[1]}.y'], row[f'{group[1]}.z']],\n",
    "        [row[f'{group[2]}.x'], row[f'{group[2]}.y'], row[f'{group[2]}.z']]\n",
    "    ), axis=1)\n",
    "X = df_cor.iloc[:,-8:]\n",
    "sequence_length = 32  # 시퀀스 길이 설정\n",
    "Xsequence = []\n",
    "for i in range(0, len(X) - sequence_length + 1, sequence_length):\n",
    "    Xsequence.append(X[i:i+sequence_length])\n",
    "Xsequence = np.array(Xsequence)\n",
    "y_pred = class_model.predict(Xsequence)\n",
    "\n",
    "y_pred_class = np.argmax(y_pred, axis=1)"
   ]
  },
  {
   "cell_type": "code",
   "execution_count": 4,
   "metadata": {},
   "outputs": [
    {
     "data": {
      "text/plain": [
       "array([2], dtype=int64)"
      ]
     },
     "execution_count": 4,
     "metadata": {},
     "output_type": "execute_result"
    }
   ],
   "source": [
    "y_pred_class"
   ]
  },
  {
   "cell_type": "code",
   "execution_count": null,
   "metadata": {},
   "outputs": [],
   "source": []
  }
 ],
 "metadata": {
  "kernelspec": {
   "display_name": "python_project",
   "language": "python",
   "name": "python3"
  },
  "language_info": {
   "codemirror_mode": {
    "name": "ipython",
    "version": 3
   },
   "file_extension": ".py",
   "mimetype": "text/x-python",
   "name": "python",
   "nbconvert_exporter": "python",
   "pygments_lexer": "ipython3",
   "version": "3.11.5"
  }
 },
 "nbformat": 4,
 "nbformat_minor": 2
}
