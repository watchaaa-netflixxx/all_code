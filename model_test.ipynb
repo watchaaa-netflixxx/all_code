{
 "cells": [
  {
   "cell_type": "code",
   "execution_count": 3,
   "metadata": {},
   "outputs": [],
   "source": [
    "import os\n",
    "import cv2\n",
    "import math\n",
    "import numpy as np\n",
    "import pandas as pd\n",
    "import mediapipe as mp\n",
    "import argparse\n",
    "import moviepy.editor\n",
    "from moviepy.video.io.ffmpeg_tools import ffmpeg_extract_subclip\n",
    "from moviepy.editor import VideoFileClip\n",
    "from glob import glob\n",
    "import tensorflow as tf\n",
    "from tensorflow import keras\n",
    "from tensorflow.keras import layers"
   ]
  },
  {
   "cell_type": "code",
   "execution_count": 4,
   "metadata": {},
   "outputs": [],
   "source": [
    "def calculate_3d(point1, point2, point3):\n",
    "    # Calculate the vectors between the left hand, elbow, and shoulder landmarks\n",
    "    point_1_2 = [(point2[i] - point1[i]) for i in range(3)]\n",
    "    point_2_3 = [(point2[i] - point3[i]) for i in range(3)]\n",
    "\n",
    "    # Calculate the dot product and the magnitudes of the vectors\n",
    "    dot_product = sum([point_1_2[i] * point_2_3[i] for i in range(3)])\n",
    "    point_1_2_mag = math.sqrt(sum([coord**2 for coord in point_1_2]))\n",
    "    point_2_3_mag = math.sqrt(sum([coord**2 for coord in point_2_3]))\n",
    "\n",
    "    # Calculate the angle between the left hand, elbow, and shoulder landmarks in degrees\n",
    "    angle = math.degrees(math.acos(dot_product / (point_1_2_mag * point_2_3_mag)))\n",
    "\n",
    "    return angle"
   ]
  },
  {
   "cell_type": "markdown",
   "metadata": {},
   "source": [
    "#### 분류 모델"
   ]
  },
  {
   "cell_type": "code",
   "execution_count": 3,
   "metadata": {},
   "outputs": [
    {
     "name": "stdout",
     "output_type": "stream",
     "text": [
      "1/1 [==============================] - 2s 2s/step\n"
     ]
    }
   ],
   "source": [
    "# 분류 model load\n",
    "class_model = tf.keras.models.load_model('./model/classify_model.h5')\n",
    "# 32*99 dataframe\n",
    "df_cor = pd.read_csv('./data/coordinate.csv')\n",
    "point_groups = [\n",
    "('LEFT_SHOULDER', 'LEFT_ELBOW', 'LEFT_WRIST'),\n",
    "('LEFT_HIP', 'LEFT_SHOULDER', 'LEFT_ELBOW'),\n",
    "('LEFT_KNEE', 'LEFT_HIP', 'LEFT_SHOULDER'),\n",
    "('LEFT_ANKLE', 'LEFT_KNEE', 'LEFT_HIP'),\n",
    "('RIGHT_SHOULDER', 'RIGHT_ELBOW', 'RIGHT_WRIST'),\n",
    "('RIGHT_HIP', 'RIGHT_SHOULDER', 'RIGHT_ELBOW'),\n",
    "('RIGHT_KNEE', 'RIGHT_HIP', 'RIGHT_SHOULDER'),\n",
    "('RIGHT_ANKLE', 'RIGHT_KNEE', 'RIGHT_HIP')\n",
    "]\n",
    "# 열 이름 리스트 만들기\n",
    "column_names = [f'{group[0]}_ANGLE' for group in point_groups]\n",
    "# 각 그룹의 각도 계산 및 데이터프레임에 추가\n",
    "for group, col_name in zip(point_groups, column_names):\n",
    "    df_cor[col_name] = df_cor.apply(lambda row: calculate_3d(\n",
    "        [row[f'{group[0]}.x'], row[f'{group[0]}.y'], row[f'{group[0]}.z']],\n",
    "        [row[f'{group[1]}.x'], row[f'{group[1]}.y'], row[f'{group[1]}.z']],\n",
    "        [row[f'{group[2]}.x'], row[f'{group[2]}.y'], row[f'{group[2]}.z']]\n",
    "    ), axis=1)\n",
    "X = df_cor.iloc[:,-8:]\n",
    "sequence_length = 32  # 시퀀스 길이 설정\n",
    "Xsequence = []\n",
    "for i in range(0, len(X) - sequence_length + 1, sequence_length):\n",
    "    Xsequence.append(X[i:i+sequence_length])\n",
    "Xsequence = np.array(Xsequence)\n",
    "y_pred = class_model.predict(Xsequence)\n",
    "\n",
    "y_pred_class = np.argmax(y_pred, axis=1)"
   ]
  },
  {
   "cell_type": "code",
   "execution_count": 4,
   "metadata": {},
   "outputs": [
    {
     "data": {
      "text/plain": [
       "array([2], dtype=int64)"
      ]
     },
     "execution_count": 4,
     "metadata": {},
     "output_type": "execute_result"
    }
   ],
   "source": [
    "y_pred_class"
   ]
  },
  {
   "cell_type": "markdown",
   "metadata": {},
   "source": [
    "#### 정확도 모델"
   ]
  },
  {
   "cell_type": "code",
   "execution_count": 1,
   "metadata": {},
   "outputs": [],
   "source": [
    "cor_label = []\n",
    "data_file = './cor_data/coordinate.csv'\n",
    "correct_model_file = './model/correct_model.h5'   "
   ]
  },
  {
   "cell_type": "code",
   "execution_count": 5,
   "metadata": {},
   "outputs": [
    {
     "name": "stdout",
     "output_type": "stream",
     "text": [
      "(3, 107)\n"
     ]
    },
    {
     "data": {
      "text/html": [
       "<div>\n",
       "<style scoped>\n",
       "    .dataframe tbody tr th:only-of-type {\n",
       "        vertical-align: middle;\n",
       "    }\n",
       "\n",
       "    .dataframe tbody tr th {\n",
       "        vertical-align: top;\n",
       "    }\n",
       "\n",
       "    .dataframe thead th {\n",
       "        text-align: right;\n",
       "    }\n",
       "</style>\n",
       "<table border=\"1\" class=\"dataframe\">\n",
       "  <thead>\n",
       "    <tr style=\"text-align: right;\">\n",
       "      <th></th>\n",
       "      <th>NOSE.x</th>\n",
       "      <th>NOSE.y</th>\n",
       "      <th>NOSE.z</th>\n",
       "      <th>LEFT_EYE_INNER.x</th>\n",
       "      <th>LEFT_EYE_INNER.y</th>\n",
       "      <th>LEFT_EYE_INNER.z</th>\n",
       "      <th>LEFT_EYE.x</th>\n",
       "      <th>LEFT_EYE.y</th>\n",
       "      <th>LEFT_EYE.z</th>\n",
       "      <th>LEFT_EYE_OUTER.x</th>\n",
       "      <th>...</th>\n",
       "      <th>RIGHT_FOOT_INDEX.y</th>\n",
       "      <th>RIGHT_FOOT_INDEX.z</th>\n",
       "      <th>LEFT_SHOULDER_ANGLE</th>\n",
       "      <th>LEFT_HIP_ANGLE</th>\n",
       "      <th>LEFT_KNEE_ANGLE</th>\n",
       "      <th>LEFT_ANKLE_ANGLE</th>\n",
       "      <th>RIGHT_SHOULDER_ANGLE</th>\n",
       "      <th>RIGHT_HIP_ANGLE</th>\n",
       "      <th>RIGHT_KNEE_ANGLE</th>\n",
       "      <th>RIGHT_ANKLE_ANGLE</th>\n",
       "    </tr>\n",
       "  </thead>\n",
       "  <tbody>\n",
       "    <tr>\n",
       "      <th>0</th>\n",
       "      <td>-0.572857</td>\n",
       "      <td>-0.272443</td>\n",
       "      <td>-0.106455</td>\n",
       "      <td>-0.543600</td>\n",
       "      <td>-0.299687</td>\n",
       "      <td>-0.150511</td>\n",
       "      <td>-0.544483</td>\n",
       "      <td>-0.301143</td>\n",
       "      <td>-0.140582</td>\n",
       "      <td>-0.546128</td>\n",
       "      <td>...</td>\n",
       "      <td>0.524956</td>\n",
       "      <td>0.379432</td>\n",
       "      <td>81.154119</td>\n",
       "      <td>94.764766</td>\n",
       "      <td>67.646893</td>\n",
       "      <td>94.120751</td>\n",
       "      <td>99.795197</td>\n",
       "      <td>84.736562</td>\n",
       "      <td>52.034703</td>\n",
       "      <td>89.829639</td>\n",
       "    </tr>\n",
       "    <tr>\n",
       "      <th>1</th>\n",
       "      <td>-0.486369</td>\n",
       "      <td>-0.394578</td>\n",
       "      <td>-0.148394</td>\n",
       "      <td>-0.462650</td>\n",
       "      <td>-0.423070</td>\n",
       "      <td>-0.183066</td>\n",
       "      <td>-0.464088</td>\n",
       "      <td>-0.424322</td>\n",
       "      <td>-0.172190</td>\n",
       "      <td>-0.465847</td>\n",
       "      <td>...</td>\n",
       "      <td>0.642555</td>\n",
       "      <td>0.348135</td>\n",
       "      <td>78.773628</td>\n",
       "      <td>83.816189</td>\n",
       "      <td>107.118295</td>\n",
       "      <td>129.788212</td>\n",
       "      <td>102.063119</td>\n",
       "      <td>77.728968</td>\n",
       "      <td>92.220770</td>\n",
       "      <td>115.949758</td>\n",
       "    </tr>\n",
       "    <tr>\n",
       "      <th>2</th>\n",
       "      <td>-0.215141</td>\n",
       "      <td>-0.610618</td>\n",
       "      <td>-0.107129</td>\n",
       "      <td>-0.184244</td>\n",
       "      <td>-0.627412</td>\n",
       "      <td>-0.145302</td>\n",
       "      <td>-0.186268</td>\n",
       "      <td>-0.628463</td>\n",
       "      <td>-0.131118</td>\n",
       "      <td>-0.188535</td>\n",
       "      <td>...</td>\n",
       "      <td>0.695041</td>\n",
       "      <td>0.428773</td>\n",
       "      <td>93.431406</td>\n",
       "      <td>59.639942</td>\n",
       "      <td>163.919944</td>\n",
       "      <td>165.268242</td>\n",
       "      <td>95.207328</td>\n",
       "      <td>27.526924</td>\n",
       "      <td>147.530217</td>\n",
       "      <td>165.674493</td>\n",
       "    </tr>\n",
       "  </tbody>\n",
       "</table>\n",
       "<p>3 rows × 107 columns</p>\n",
       "</div>"
      ],
      "text/plain": [
       "     NOSE.x    NOSE.y    NOSE.z  LEFT_EYE_INNER.x  LEFT_EYE_INNER.y  \\\n",
       "0 -0.572857 -0.272443 -0.106455         -0.543600         -0.299687   \n",
       "1 -0.486369 -0.394578 -0.148394         -0.462650         -0.423070   \n",
       "2 -0.215141 -0.610618 -0.107129         -0.184244         -0.627412   \n",
       "\n",
       "   LEFT_EYE_INNER.z  LEFT_EYE.x  LEFT_EYE.y  LEFT_EYE.z  LEFT_EYE_OUTER.x  \\\n",
       "0         -0.150511   -0.544483   -0.301143   -0.140582         -0.546128   \n",
       "1         -0.183066   -0.464088   -0.424322   -0.172190         -0.465847   \n",
       "2         -0.145302   -0.186268   -0.628463   -0.131118         -0.188535   \n",
       "\n",
       "   ...  RIGHT_FOOT_INDEX.y  RIGHT_FOOT_INDEX.z  LEFT_SHOULDER_ANGLE  \\\n",
       "0  ...            0.524956            0.379432            81.154119   \n",
       "1  ...            0.642555            0.348135            78.773628   \n",
       "2  ...            0.695041            0.428773            93.431406   \n",
       "\n",
       "   LEFT_HIP_ANGLE  LEFT_KNEE_ANGLE  LEFT_ANKLE_ANGLE  RIGHT_SHOULDER_ANGLE  \\\n",
       "0       94.764766        67.646893         94.120751             99.795197   \n",
       "1       83.816189       107.118295        129.788212            102.063119   \n",
       "2       59.639942       163.919944        165.268242             95.207328   \n",
       "\n",
       "   RIGHT_HIP_ANGLE  RIGHT_KNEE_ANGLE  RIGHT_ANKLE_ANGLE  \n",
       "0        84.736562         52.034703          89.829639  \n",
       "1        77.728968         92.220770         115.949758  \n",
       "2        27.526924        147.530217         165.674493  \n",
       "\n",
       "[3 rows x 107 columns]"
      ]
     },
     "execution_count": 5,
     "metadata": {},
     "output_type": "execute_result"
    }
   ],
   "source": [
    "# 분류 model load\n",
    "correct_model = tf.keras.models.load_model(correct_model_file)\n",
    "\n",
    "# 32*99 dataframe\n",
    "df_cor = pd.read_csv(data_file)\n",
    "point_groups = [\n",
    "('LEFT_SHOULDER', 'LEFT_ELBOW', 'LEFT_WRIST'),\n",
    "('LEFT_HIP', 'LEFT_SHOULDER', 'LEFT_ELBOW'),\n",
    "('LEFT_KNEE', 'LEFT_HIP', 'LEFT_SHOULDER'),\n",
    "('LEFT_ANKLE', 'LEFT_KNEE', 'LEFT_HIP'),\n",
    "('RIGHT_SHOULDER', 'RIGHT_ELBOW', 'RIGHT_WRIST'),\n",
    "('RIGHT_HIP', 'RIGHT_SHOULDER', 'RIGHT_ELBOW'),\n",
    "('RIGHT_KNEE', 'RIGHT_HIP', 'RIGHT_SHOULDER'),\n",
    "('RIGHT_ANKLE', 'RIGHT_KNEE', 'RIGHT_HIP')\n",
    "]\n",
    "\n",
    "# 열 이름 리스트 만들기\n",
    "column_names = [f'{group[0]}_ANGLE' for group in point_groups]\n",
    "\n",
    "# 각 그룹의 각도 계산 및 데이터프레임에 추가\n",
    "for group, col_name in zip(point_groups, column_names):\n",
    "    df_cor[col_name] = df_cor.apply(lambda row: calculate_3d(\n",
    "        [row[f'{group[0]}.x'], row[f'{group[0]}.y'], row[f'{group[0]}.z']],\n",
    "        [row[f'{group[1]}.x'], row[f'{group[1]}.y'], row[f'{group[1]}.z']],\n",
    "        [row[f'{group[2]}.x'], row[f'{group[2]}.y'], row[f'{group[2]}.z']]\n",
    "    ), axis=1)\n",
    "\n",
    "X = df_cor\n",
    "print(X.shape)\n",
    "X.head()"
   ]
  },
  {
   "cell_type": "code",
   "execution_count": null,
   "metadata": {},
   "outputs": [],
   "source": [
    "sequence_length = 32  # 시퀀스 길이 설정\n",
    "Xsequence = []\n",
    "\n",
    "for i in range(0, len(X) - sequence_length + 1, sequence_length):\n",
    "    Xsequence.append(X[i:i+sequence_length])\n",
    "\n",
    "Xsequence = np.array(Xsequence)\n",
    "\n",
    "y_pred = correct_model.predict(Xsequence)\n",
    "\n",
    "y_pred_class = np.argmax(y_pred, axis=1)\n",
    "\n",
    "print(int(y_pred_class[0]))\n",
    "\n",
    "cor_label.append[int(y_pred_class[0])]"
   ]
  }
 ],
 "metadata": {
  "kernelspec": {
   "display_name": "python_project",
   "language": "python",
   "name": "python3"
  },
  "language_info": {
   "codemirror_mode": {
    "name": "ipython",
    "version": 3
   },
   "file_extension": ".py",
   "mimetype": "text/x-python",
   "name": "python",
   "nbconvert_exporter": "python",
   "pygments_lexer": "ipython3",
   "version": "3.11.5"
  }
 },
 "nbformat": 4,
 "nbformat_minor": 2
}
