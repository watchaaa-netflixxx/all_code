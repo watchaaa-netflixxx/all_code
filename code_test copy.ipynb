{
 "cells": [
  {
   "cell_type": "code",
   "execution_count": 7,
   "metadata": {},
   "outputs": [],
   "source": [
    "import all_function as all"
   ]
  },
  {
   "cell_type": "markdown",
   "metadata": {},
   "source": [
    "#### 경로 설정"
   ]
  },
  {
   "cell_type": "code",
   "execution_count": 7,
   "metadata": {},
   "outputs": [],
   "source": [
    "uploaded_video = '../uploaded_video/stu8_63.mp4'        # (사용자가 업로드한 영상)\n",
    "Vid_Folder_path = '../Vid_Folder/'\t                    # (15초 잘라진 동영상이 있는 폴더)\n",
    "image_Folder_path = '../image_Folder'\t                # (32개 이미지가 있는 폴더)\n",
    "data_Folder_path = '../data/'\t\t                    # (이미지에서 좌표 뽑아낸 csv가 있는 폴더)\n",
    "model_Folder_path = '../model/'\t                        # (classifycation model이 있는 폴더)\n",
    "cut_video = Vid_Folder_path + '15s.mp4'\n",
    "count_cut_Folder_path = '../count_cut_video/'           # (카운트 별 잘라진 동영상 있는 폴더)\n",
    "cor_image_Folder_path = '../cor_image_Folder'\t        # (32개 이미지가 있는 폴더)\n",
    "cor_data_Folder_path = '../cor_data/'                   # (correct model 전용 좌표값 csv 있는 폴더)"
   ]
  },
  {
   "cell_type": "code",
   "execution_count": 8,
   "metadata": {},
   "outputs": [],
   "source": [
    "uploaded_video = 'C:\\\\Users\\\\Playdata\\\\Desktop\\\\DEV\\\\project\\\\finalproject\\\\all_code\\\\uploaded_video\\\\stu8_63.mp4'        # (사용자가 업로드한 영상)\n",
    "Vid_Folder_path = 'C:\\\\Users\\\\Playdata\\\\Desktop\\\\DEV\\\\project\\\\finalproject\\\\all_code\\\\Vid_Folder\\\\'\t                    # (15초 잘라진 동영상이 있는 폴더)\n",
    "image_Folder_path = 'C:\\\\Users\\\\Playdata\\\\Desktop\\\\DEV\\\\project\\\\finalproject\\\\all_code\\\\image_Folder'\t                # (32개 이미지가 있는 폴더)\n",
    "data_Folder_path = 'C:\\\\Users\\\\Playdata\\\\Desktop\\\\DEV\\\\project\\\\finalproject\\\\all_code\\\\data\\\\'\t\t                    # (이미지에서 좌표 뽑아낸 csv가 있는 폴더)\n",
    "model_Folder_path = 'C:\\\\Users\\\\Playdata\\\\Desktop\\\\DEV\\\\project\\\\finalproject\\\\all_code\\\\model\\\\'\t                        # (classifycation model이 있는 폴더)\n",
    "cut_video = Vid_Folder_path + '15s.mp4'\n",
    "count_cut_Folder_path = 'C:\\\\Users\\\\Playdata\\\\Desktop\\\\DEV\\\\project\\\\finalproject\\\\all_code\\\\count_cut_video\\\\'           # (카운트 별 잘라진 동영상 있는 폴더)\n",
    "cor_image_Folder_path = 'C:\\\\Users\\\\Playdata\\\\Desktop\\\\DEV\\\\project\\\\finalproject\\\\all_code\\\\cor_image_Folder'\t        # (32개 이미지가 있는 폴더)\n",
    "cor_data_Folder_path = 'C:\\\\Users\\\\Playdata\\\\Desktop\\\\DEV\\\\project\\\\finalproject\\\\all_code\\\\cor_data\\\\'                   # (correct model 전용 좌표값 csv 있는 폴더)\n",
    "MVid_Folder_path = 'C:\\\\Users\\\\Playdata\\\\Desktop\\\\DEV\\\\project\\\\finalproject\\\\all_code\\\\MVid_Folder\\\\'"
   ]
  },
  {
   "cell_type": "code",
   "execution_count": null,
   "metadata": {},
   "outputs": [],
   "source": [
    "# '../' 코드로 먼저 변수 저장하여 밑에 cell 실행시키고, 오류나면 './' 코드로 변수 저장하여 다시 실행시키고, 다시 '../' 코드로 변수 저장하여 실행시켜야함"
   ]
  },
  {
   "cell_type": "markdown",
   "metadata": {},
   "source": [
    "#### 분류모델 값 "
   ]
  },
  {
   "cell_type": "code",
   "execution_count": 9,
   "metadata": {},
   "outputs": [
    {
     "name": "stdout",
     "output_type": "stream",
     "text": [
      "Moviepy - Running:\n",
      ">>> \"+ \" \".join(cmd)\n",
      "Moviepy - Command successful\n",
      "Xsequence.shape:  (1, 32, 18)\n"
     ]
    },
    {
     "ename": "ValueError",
     "evalue": "in user code:\n\n    File \"c:\\Users\\Playdata\\AppData\\Local\\anaconda3\\envs\\python_project\\Lib\\site-packages\\keras\\src\\engine\\training.py\", line 2416, in predict_function  *\n        return step_function(self, iterator)\n    File \"c:\\Users\\Playdata\\AppData\\Local\\anaconda3\\envs\\python_project\\Lib\\site-packages\\keras\\src\\engine\\training.py\", line 2401, in step_function  **\n        outputs = model.distribute_strategy.run(run_step, args=(data,))\n    File \"c:\\Users\\Playdata\\AppData\\Local\\anaconda3\\envs\\python_project\\Lib\\site-packages\\keras\\src\\engine\\training.py\", line 2389, in run_step  **\n        outputs = model.predict_step(data)\n    File \"c:\\Users\\Playdata\\AppData\\Local\\anaconda3\\envs\\python_project\\Lib\\site-packages\\keras\\src\\engine\\training.py\", line 2357, in predict_step\n        return self(x, training=False)\n    File \"c:\\Users\\Playdata\\AppData\\Local\\anaconda3\\envs\\python_project\\Lib\\site-packages\\keras\\src\\utils\\traceback_utils.py\", line 70, in error_handler\n        raise e.with_traceback(filtered_tb) from None\n    File \"c:\\Users\\Playdata\\AppData\\Local\\anaconda3\\envs\\python_project\\Lib\\site-packages\\keras\\src\\engine\\input_spec.py\", line 298, in assert_input_compatibility\n        raise ValueError(\n\n    ValueError: Input 0 of layer \"sequential_11\" is incompatible with the layer: expected shape=(None, 32, 18), found shape=(32, 18)\n",
     "output_type": "error",
     "traceback": [
      "\u001b[1;31m---------------------------------------------------------------------------\u001b[0m",
      "\u001b[1;31mValueError\u001b[0m                                Traceback (most recent call last)",
      "\u001b[1;32mc:\\Users\\Playdata\\Desktop\\DEV\\project\\finalproject\\all_code\\code_test copy.ipynb Cell 7\u001b[0m line \u001b[0;36m1\n\u001b[1;32m----> <a href='vscode-notebook-cell:/c%3A/Users/Playdata/Desktop/DEV/project/finalproject/all_code/code_test%20copy.ipynb#W6sZmlsZQ%3D%3D?line=0'>1</a>\u001b[0m class_int \u001b[39m=\u001b[39m \u001b[39mall\u001b[39;49m\u001b[39m.\u001b[39;49mclass_model(uploaded_video, Vid_Folder_path, image_Folder_path, data_Folder_path , model_Folder_path)\n",
      "File \u001b[1;32mc:\\Users\\Playdata\\Desktop\\DEV\\project\\finalproject\\all_code\\all_function.py:723\u001b[0m, in \u001b[0;36mclass_model\u001b[1;34m(uploaded_video, Vid_Folder_path, image_Folder_path, data_Folder_path, model_Folder_path)\u001b[0m\n\u001b[0;32m    720\u001b[0m Xsequence \u001b[39m=\u001b[39m np\u001b[39m.\u001b[39marray(Xsequence)\n\u001b[0;32m    721\u001b[0m \u001b[39mprint\u001b[39m(\u001b[39m'\u001b[39m\u001b[39mXsequence.shape: \u001b[39m\u001b[39m'\u001b[39m, Xsequence\u001b[39m.\u001b[39mshape)\n\u001b[1;32m--> 723\u001b[0m y_pred \u001b[39m=\u001b[39m class_model\u001b[39m.\u001b[39;49mpredict(X)\n\u001b[0;32m    725\u001b[0m unique_values, counts \u001b[39m=\u001b[39m np\u001b[39m.\u001b[39munique(y_pred, return_counts\u001b[39m=\u001b[39m\u001b[39mTrue\u001b[39;00m)\n\u001b[0;32m    727\u001b[0m \u001b[39m# 가장 많이 나온 클래스 찾기\u001b[39;00m\n",
      "File \u001b[1;32mc:\\Users\\Playdata\\AppData\\Local\\anaconda3\\envs\\python_project\\Lib\\site-packages\\keras\\src\\utils\\traceback_utils.py:70\u001b[0m, in \u001b[0;36mfilter_traceback.<locals>.error_handler\u001b[1;34m(*args, **kwargs)\u001b[0m\n\u001b[0;32m     67\u001b[0m     filtered_tb \u001b[39m=\u001b[39m _process_traceback_frames(e\u001b[39m.\u001b[39m__traceback__)\n\u001b[0;32m     68\u001b[0m     \u001b[39m# To get the full stack trace, call:\u001b[39;00m\n\u001b[0;32m     69\u001b[0m     \u001b[39m# `tf.debugging.disable_traceback_filtering()`\u001b[39;00m\n\u001b[1;32m---> 70\u001b[0m     \u001b[39mraise\u001b[39;00m e\u001b[39m.\u001b[39mwith_traceback(filtered_tb) \u001b[39mfrom\u001b[39;00m \u001b[39mNone\u001b[39;00m\n\u001b[0;32m     71\u001b[0m \u001b[39mfinally\u001b[39;00m:\n\u001b[0;32m     72\u001b[0m     \u001b[39mdel\u001b[39;00m filtered_tb\n",
      "File \u001b[1;32m~\\AppData\\Local\\Temp\\__autograph_generated_file5sps350w.py:15\u001b[0m, in \u001b[0;36mouter_factory.<locals>.inner_factory.<locals>.tf__predict_function\u001b[1;34m(iterator)\u001b[0m\n\u001b[0;32m     13\u001b[0m \u001b[39mtry\u001b[39;00m:\n\u001b[0;32m     14\u001b[0m     do_return \u001b[39m=\u001b[39m \u001b[39mTrue\u001b[39;00m\n\u001b[1;32m---> 15\u001b[0m     retval_ \u001b[39m=\u001b[39m ag__\u001b[39m.\u001b[39mconverted_call(ag__\u001b[39m.\u001b[39mld(step_function), (ag__\u001b[39m.\u001b[39mld(\u001b[39mself\u001b[39m), ag__\u001b[39m.\u001b[39mld(iterator)), \u001b[39mNone\u001b[39;00m, fscope)\n\u001b[0;32m     16\u001b[0m \u001b[39mexcept\u001b[39;00m:\n\u001b[0;32m     17\u001b[0m     do_return \u001b[39m=\u001b[39m \u001b[39mFalse\u001b[39;00m\n",
      "\u001b[1;31mValueError\u001b[0m: in user code:\n\n    File \"c:\\Users\\Playdata\\AppData\\Local\\anaconda3\\envs\\python_project\\Lib\\site-packages\\keras\\src\\engine\\training.py\", line 2416, in predict_function  *\n        return step_function(self, iterator)\n    File \"c:\\Users\\Playdata\\AppData\\Local\\anaconda3\\envs\\python_project\\Lib\\site-packages\\keras\\src\\engine\\training.py\", line 2401, in step_function  **\n        outputs = model.distribute_strategy.run(run_step, args=(data,))\n    File \"c:\\Users\\Playdata\\AppData\\Local\\anaconda3\\envs\\python_project\\Lib\\site-packages\\keras\\src\\engine\\training.py\", line 2389, in run_step  **\n        outputs = model.predict_step(data)\n    File \"c:\\Users\\Playdata\\AppData\\Local\\anaconda3\\envs\\python_project\\Lib\\site-packages\\keras\\src\\engine\\training.py\", line 2357, in predict_step\n        return self(x, training=False)\n    File \"c:\\Users\\Playdata\\AppData\\Local\\anaconda3\\envs\\python_project\\Lib\\site-packages\\keras\\src\\utils\\traceback_utils.py\", line 70, in error_handler\n        raise e.with_traceback(filtered_tb) from None\n    File \"c:\\Users\\Playdata\\AppData\\Local\\anaconda3\\envs\\python_project\\Lib\\site-packages\\keras\\src\\engine\\input_spec.py\", line 298, in assert_input_compatibility\n        raise ValueError(\n\n    ValueError: Input 0 of layer \"sequential_11\" is incompatible with the layer: expected shape=(None, 32, 18), found shape=(32, 18)\n"
     ]
    }
   ],
   "source": [
    "class_int = all.class_model(uploaded_video, Vid_Folder_path, image_Folder_path, data_Folder_path , model_Folder_path)"
   ]
  },
  {
   "cell_type": "code",
   "execution_count": 8,
   "metadata": {},
   "outputs": [
    {
     "data": {
      "text/plain": [
       "2"
      ]
     },
     "execution_count": 8,
     "metadata": {},
     "output_type": "execute_result"
    }
   ],
   "source": [
    "class_int"
   ]
  },
  {
   "cell_type": "markdown",
   "metadata": {},
   "source": [
    "#### 정확도 모델 값"
   ]
  },
  {
   "cell_type": "code",
   "execution_count": 9,
   "metadata": {},
   "outputs": [],
   "source": [
    "all.vid2time(class_int, cut_video, count_cut_Folder_path)"
   ]
  },
  {
   "cell_type": "code",
   "execution_count": 10,
   "metadata": {},
   "outputs": [
    {
     "name": "stdout",
     "output_type": "stream",
     "text": [
      "../count_cut_video\\count_1.mp4\n",
      "(32, 107)\n",
      "1/1 [==============================] - 2s 2s/step\n",
      "0\n",
      "../count_cut_video\\count_2.mp4\n",
      "(32, 107)\n",
      "1/1 [==============================] - 2s 2s/step\n",
      "0\n",
      "../count_cut_video\\count_3.mp4\n",
      "(32, 107)\n",
      "1/1 [==============================] - 2s 2s/step\n",
      "0\n",
      "../count_cut_video\\count_4.mp4\n",
      "(32, 107)\n",
      "WARNING:tensorflow:5 out of the last 5 calls to <function Model.make_predict_function.<locals>.predict_function at 0x000001D8CCBA2660> triggered tf.function retracing. Tracing is expensive and the excessive number of tracings could be due to (1) creating @tf.function repeatedly in a loop, (2) passing tensors with different shapes, (3) passing Python objects instead of tensors. For (1), please define your @tf.function outside of the loop. For (2), @tf.function has reduce_retracing=True option that can avoid unnecessary retracing. For (3), please refer to https://www.tensorflow.org/guide/function#controlling_retracing and https://www.tensorflow.org/api_docs/python/tf/function for  more details.\n",
      "1/1 [==============================] - 2s 2s/step\n",
      "0\n",
      "../count_cut_video\\count_5.mp4\n",
      "(32, 107)\n",
      "WARNING:tensorflow:6 out of the last 6 calls to <function Model.make_predict_function.<locals>.predict_function at 0x000001D8CB848400> triggered tf.function retracing. Tracing is expensive and the excessive number of tracings could be due to (1) creating @tf.function repeatedly in a loop, (2) passing tensors with different shapes, (3) passing Python objects instead of tensors. For (1), please define your @tf.function outside of the loop. For (2), @tf.function has reduce_retracing=True option that can avoid unnecessary retracing. For (3), please refer to https://www.tensorflow.org/guide/function#controlling_retracing and https://www.tensorflow.org/api_docs/python/tf/function for  more details.\n",
      "1/1 [==============================] - 2s 2s/step\n",
      "0\n",
      "../count_cut_video\\count_6.mp4\n",
      "(32, 107)\n",
      "1/1 [==============================] - 2s 2s/step\n",
      "0\n",
      "../count_cut_video\\count_7.mp4\n",
      "(32, 107)\n",
      "1/1 [==============================] - 2s 2s/step\n",
      "0\n",
      "../count_cut_video\\count_8.mp4\n",
      "(32, 107)\n",
      "1/1 [==============================] - 2s 2s/step\n",
      "0\n"
     ]
    }
   ],
   "source": [
    "cor_list = all.correct_model(class_int, Vid_Folder_path, count_cut_Folder_path, cor_image_Folder_path, cor_data_Folder_path, model_Folder_path)"
   ]
  },
  {
   "cell_type": "code",
   "execution_count": 11,
   "metadata": {},
   "outputs": [
    {
     "data": {
      "text/plain": [
       "[0, 0, 0, 0, 0, 0, 0, 0]"
      ]
     },
     "execution_count": 11,
     "metadata": {},
     "output_type": "execute_result"
    }
   ],
   "source": [
    "cor_list"
   ]
  },
  {
   "cell_type": "markdown",
   "metadata": {},
   "source": [
    "#### 스켈레톤 & 운동정보 화면 저장"
   ]
  },
  {
   "cell_type": "code",
   "execution_count": 16,
   "metadata": {},
   "outputs": [],
   "source": [
    "all.vid2Mvid(class_int, Vid_Folder_path, MVid_Folder_path, cor_list)"
   ]
  },
  {
   "cell_type": "markdown",
   "metadata": {},
   "source": [
    "#### 한번에"
   ]
  },
  {
   "cell_type": "code",
   "execution_count": 11,
   "metadata": {},
   "outputs": [
    {
     "name": "stdout",
     "output_type": "stream",
     "text": [
      "Moviepy - Running:\n",
      ">>> \"+ \" \".join(cmd)\n",
      "Moviepy - Command successful\n",
      "1/1 [==============================] - 2s 2s/step\n",
      "C:\\Users\\Playdata\\Desktop\\DEV\\project\\finalproject\\all_code\\count_cut_video\\count_1.mp4\n",
      "(32, 107)\n",
      "1/1 [==============================] - 2s 2s/step\n",
      "0\n",
      "C:\\Users\\Playdata\\Desktop\\DEV\\project\\finalproject\\all_code\\count_cut_video\\count_2.mp4\n",
      "(32, 107)\n",
      "1/1 [==============================] - 2s 2s/step\n",
      "0\n",
      "C:\\Users\\Playdata\\Desktop\\DEV\\project\\finalproject\\all_code\\count_cut_video\\count_3.mp4\n",
      "(32, 107)\n",
      "1/1 [==============================] - 2s 2s/step\n",
      "0\n",
      "C:\\Users\\Playdata\\Desktop\\DEV\\project\\finalproject\\all_code\\count_cut_video\\count_4.mp4\n",
      "(32, 107)\n",
      "1/1 [==============================] - 2s 2s/step\n",
      "0\n",
      "C:\\Users\\Playdata\\Desktop\\DEV\\project\\finalproject\\all_code\\count_cut_video\\count_5.mp4\n",
      "(32, 107)\n",
      "1/1 [==============================] - 2s 2s/step\n",
      "0\n",
      "C:\\Users\\Playdata\\Desktop\\DEV\\project\\finalproject\\all_code\\count_cut_video\\count_6.mp4\n",
      "(32, 107)\n",
      "1/1 [==============================] - 2s 2s/step\n",
      "0\n",
      "C:\\Users\\Playdata\\Desktop\\DEV\\project\\finalproject\\all_code\\count_cut_video\\count_7.mp4\n",
      "(32, 107)\n",
      "1/1 [==============================] - 2s 2s/step\n",
      "0\n",
      "C:\\Users\\Playdata\\Desktop\\DEV\\project\\finalproject\\all_code\\count_cut_video\\count_8.mp4\n",
      "(32, 107)\n",
      "1/1 [==============================] - 1s 1s/step\n",
      "0\n"
     ]
    }
   ],
   "source": [
    "class_int = all.class_model(uploaded_video, Vid_Folder_path, image_Folder_path, data_Folder_path , model_Folder_path)\n",
    "all.vid2time(class_int, cut_video, count_cut_Folder_path)\n",
    "cor_list = all.correct_model(class_int, Vid_Folder_path, count_cut_Folder_path, cor_image_Folder_path, cor_data_Folder_path, model_Folder_path)\n",
    "all.vid2Mvid(class_int, Vid_Folder_path, MVid_Folder_path, cor_list)"
   ]
  },
  {
   "cell_type": "code",
   "execution_count": null,
   "metadata": {},
   "outputs": [],
   "source": []
  }
 ],
 "metadata": {
  "kernelspec": {
   "display_name": "python_project",
   "language": "python",
   "name": "python3"
  },
  "language_info": {
   "codemirror_mode": {
    "name": "ipython",
    "version": 3
   },
   "file_extension": ".py",
   "mimetype": "text/x-python",
   "name": "python",
   "nbconvert_exporter": "python",
   "pygments_lexer": "ipython3",
   "version": "3.11.5"
  }
 },
 "nbformat": 4,
 "nbformat_minor": 2
}
